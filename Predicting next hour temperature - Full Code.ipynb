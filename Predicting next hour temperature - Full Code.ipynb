{
 "cells": [
  {
   "cell_type": "markdown",
   "metadata": {},
   "source": [
    "### CSC 578 - Neural Networks and Deep Learning\n",
    "#### Submitted By: Anuj Verma"
   ]
  },
  {
   "cell_type": "markdown",
   "metadata": {},
   "source": [
    "## Problem Statement\n",
    "The task of the competition is to predict the temperature at the next hour given the weather conditions and temperature for prior hours.  This is a multivariate timeseries forecasting problem, and we use a neural network approach to tackle the problem.\n",
    "\n",
    "This was a kaggle competition and can be found at https://www.kaggle.com/t/2efac42885e94844bf4310454349fcd7\n",
    "\n",
    "## Dataset\n",
    "The dataset contains weather conditions recorded at the Weather Station at the Max Planck Institute for Biogeochemistry in Jena, Germany, over several years. The dataset for this task is climate_hour.csv. In this dataset, 14 different quantities (including air temperature, atmospheric pressure and humidity) were recorded every 10 minutes. The original data goes back to 2003, but we use a subset for this competition, from 2009 to 2016 (both inclusive). Also for our competition, we use a further reduced version in which recordings are kept for every hour.\n",
    "\n",
    "**More Task Explaination**\n",
    "<p>The task should use the data from 1/1/2009 to 12/31/2014 to build a model, and test/predict for 1/1/2015 to 1/1/2017.  And you apply a sliding window of 24 hours, for all features (except for date_time), to predict the temperature of the next hour.  More specifically, you should prepare Keras LSTM-ready datasets to be in the following:\n",
    "\n",
    "<p>x_train<br>\n",
    "The first entry should be all variables in the date_time range from 01.01.2009 01:00:00 to 02.01.2009 00:00:00.<br>\n",
    "The last entry should be all variables in the date_time range from 30.12.2014 23:00:00 to 31.12.2014 22:00:00.\n",
    "<p>y_train<br>\n",
    "The first entry should be the temperature of 02.01.2009 01:00:00<br>\n",
    "The last entry should be the temperature of 31.12.2014 23:00:00\n",
    "<p>x_test<br>\n",
    "The first entry should be all variables in the date_time range from 31.12.2014 00:00:00 to 31.12.2014 23:00:00.<br>\n",
    "The last entry should be all variables in the date_time range from 31.12.2016 00:00:00 to 31.12.2016 23:00:00.\n",
    "\n",
    "<p>y_test<br>\n",
    "The first entry should be the temperature of 01.01.2015 00:00:00<br>\n",
    "The last entry should be the temperature of 01.01.2017 00:00:00"
   ]
  },
  {
   "cell_type": "code",
   "execution_count": 1,
   "metadata": {
    "_cell_guid": "b1076dfc-b9ad-4769-8c92-a6c4dae69d19",
    "_uuid": "8f2839f25d086af736a60e9eeb907d3b93b6e0e5"
   },
   "outputs": [
    {
     "name": "stderr",
     "output_type": "stream",
     "text": [
      "Using TensorFlow backend.\n"
     ]
    },
    {
     "name": "stdout",
     "output_type": "stream",
     "text": [
      "['climate_hour.csv', 'sample_submission.csv']\n"
     ]
    }
   ],
   "source": [
    "#basic libraries\n",
    "import numpy as np # linear algebra\n",
    "import pandas as pd # data processing, CSV file I/O (e.g. pd.read_csv)\n",
    "\n",
    "#viz libs\n",
    "import matplotlib.pyplot as plt\n",
    "import seaborn as sns\n",
    "%matplotlib inline\n",
    "\n",
    "#data processing libraries\n",
    "from sklearn.preprocessing import MinMaxScaler\n",
    "from sklearn.model_selection import train_test_split\n",
    "from sklearn.metrics import mean_absolute_error\n",
    "\n",
    "#Keras libraries\n",
    "import keras\n",
    "from keras.models import Sequential\n",
    "from keras.layers import Dense,LSTM,RNN\n",
    "from keras.layers import Dropout\n",
    "from keras import regularizers\n",
    "from keras.layers import Bidirectional\n",
    "from keras.layers import TimeDistributed\n",
    "\n",
    "#system libraries and check the files\n",
    "import os"
   ]
  },
  {
   "cell_type": "code",
   "execution_count": 2,
   "metadata": {
    "_cell_guid": "79c7e3d0-c299-4dcb-8224-4455121ee9b0",
    "_uuid": "d629ff2d2480ee46fbb7e2d37f6b5fab8052498a"
   },
   "outputs": [
    {
     "data": {
      "text/plain": [
       "(70037, 15)"
      ]
     },
     "execution_count": 2,
     "metadata": {},
     "output_type": "execute_result"
    }
   ],
   "source": [
    "data = pd.read_csv('../input/climate_hour.csv')\n",
    "data.shape"
   ]
  },
  {
   "cell_type": "code",
   "execution_count": 3,
   "metadata": {
    "_uuid": "40bfb24f03ce14d8ab7ae83cd479d7f0b13c0cf5"
   },
   "outputs": [
    {
     "data": {
      "text/html": [
       "<div>\n",
       "<style scoped>\n",
       "    .dataframe tbody tr th:only-of-type {\n",
       "        vertical-align: middle;\n",
       "    }\n",
       "\n",
       "    .dataframe tbody tr th {\n",
       "        vertical-align: top;\n",
       "    }\n",
       "\n",
       "    .dataframe thead th {\n",
       "        text-align: right;\n",
       "    }\n",
       "</style>\n",
       "<table border=\"1\" class=\"dataframe\">\n",
       "  <thead>\n",
       "    <tr style=\"text-align: right;\">\n",
       "      <th></th>\n",
       "      <th>Date Time</th>\n",
       "      <th>p (mbar)</th>\n",
       "      <th>T (degC)</th>\n",
       "      <th>Tpot (K)</th>\n",
       "      <th>Tdew (degC)</th>\n",
       "      <th>rh (%)</th>\n",
       "      <th>VPmax (mbar)</th>\n",
       "      <th>VPact (mbar)</th>\n",
       "      <th>VPdef (mbar)</th>\n",
       "      <th>sh (g/kg)</th>\n",
       "      <th>H2OC (mmol/mol)</th>\n",
       "      <th>rho (g/m**3)</th>\n",
       "      <th>wv (m/s)</th>\n",
       "      <th>max. wv (m/s)</th>\n",
       "      <th>wd (deg)</th>\n",
       "    </tr>\n",
       "  </thead>\n",
       "  <tbody>\n",
       "    <tr>\n",
       "      <th>0</th>\n",
       "      <td>01.01.2009 01:00:00</td>\n",
       "      <td>996.50</td>\n",
       "      <td>-8.05</td>\n",
       "      <td>265.38</td>\n",
       "      <td>-8.78</td>\n",
       "      <td>94.4</td>\n",
       "      <td>3.33</td>\n",
       "      <td>3.14</td>\n",
       "      <td>0.19</td>\n",
       "      <td>1.96</td>\n",
       "      <td>3.15</td>\n",
       "      <td>1307.86</td>\n",
       "      <td>0.21</td>\n",
       "      <td>0.63</td>\n",
       "      <td>192.7</td>\n",
       "    </tr>\n",
       "    <tr>\n",
       "      <th>1</th>\n",
       "      <td>01.01.2009 02:00:00</td>\n",
       "      <td>996.62</td>\n",
       "      <td>-8.88</td>\n",
       "      <td>264.54</td>\n",
       "      <td>-9.77</td>\n",
       "      <td>93.2</td>\n",
       "      <td>3.12</td>\n",
       "      <td>2.90</td>\n",
       "      <td>0.21</td>\n",
       "      <td>1.81</td>\n",
       "      <td>2.91</td>\n",
       "      <td>1312.25</td>\n",
       "      <td>0.25</td>\n",
       "      <td>0.63</td>\n",
       "      <td>190.3</td>\n",
       "    </tr>\n",
       "    <tr>\n",
       "      <th>2</th>\n",
       "      <td>01.01.2009 03:00:00</td>\n",
       "      <td>996.84</td>\n",
       "      <td>-8.81</td>\n",
       "      <td>264.59</td>\n",
       "      <td>-9.66</td>\n",
       "      <td>93.5</td>\n",
       "      <td>3.13</td>\n",
       "      <td>2.93</td>\n",
       "      <td>0.20</td>\n",
       "      <td>1.83</td>\n",
       "      <td>2.94</td>\n",
       "      <td>1312.18</td>\n",
       "      <td>0.18</td>\n",
       "      <td>0.63</td>\n",
       "      <td>167.2</td>\n",
       "    </tr>\n",
       "    <tr>\n",
       "      <th>3</th>\n",
       "      <td>01.01.2009 04:00:00</td>\n",
       "      <td>996.99</td>\n",
       "      <td>-9.05</td>\n",
       "      <td>264.34</td>\n",
       "      <td>-10.02</td>\n",
       "      <td>92.6</td>\n",
       "      <td>3.07</td>\n",
       "      <td>2.85</td>\n",
       "      <td>0.23</td>\n",
       "      <td>1.78</td>\n",
       "      <td>2.85</td>\n",
       "      <td>1313.61</td>\n",
       "      <td>0.10</td>\n",
       "      <td>0.38</td>\n",
       "      <td>240.0</td>\n",
       "    </tr>\n",
       "    <tr>\n",
       "      <th>4</th>\n",
       "      <td>01.01.2009 05:00:00</td>\n",
       "      <td>997.46</td>\n",
       "      <td>-9.63</td>\n",
       "      <td>263.72</td>\n",
       "      <td>-10.65</td>\n",
       "      <td>92.2</td>\n",
       "      <td>2.94</td>\n",
       "      <td>2.71</td>\n",
       "      <td>0.23</td>\n",
       "      <td>1.69</td>\n",
       "      <td>2.71</td>\n",
       "      <td>1317.19</td>\n",
       "      <td>0.40</td>\n",
       "      <td>0.88</td>\n",
       "      <td>157.0</td>\n",
       "    </tr>\n",
       "  </tbody>\n",
       "</table>\n",
       "</div>"
      ],
      "text/plain": [
       "             Date Time  p (mbar)    ...     max. wv (m/s)  wd (deg)\n",
       "0  01.01.2009 01:00:00    996.50    ...              0.63     192.7\n",
       "1  01.01.2009 02:00:00    996.62    ...              0.63     190.3\n",
       "2  01.01.2009 03:00:00    996.84    ...              0.63     167.2\n",
       "3  01.01.2009 04:00:00    996.99    ...              0.38     240.0\n",
       "4  01.01.2009 05:00:00    997.46    ...              0.88     157.0\n",
       "\n",
       "[5 rows x 15 columns]"
      ]
     },
     "execution_count": 3,
     "metadata": {},
     "output_type": "execute_result"
    }
   ],
   "source": [
    "data.head()"
   ]
  },
  {
   "cell_type": "code",
   "execution_count": 4,
   "metadata": {
    "_uuid": "6f3d03d75e28334b94950d41c71acfd19dec58f9"
   },
   "outputs": [
    {
     "data": {
      "text/plain": [
       "dtype('O')"
      ]
     },
     "execution_count": 4,
     "metadata": {},
     "output_type": "execute_result"
    }
   ],
   "source": [
    "#check dtype for date time column\n",
    "data['Date Time'].dtype"
   ]
  },
  {
   "cell_type": "code",
   "execution_count": 5,
   "metadata": {
    "_uuid": "717023d93bee17f8c222307a4172a55133bfc38b",
    "scrolled": true
   },
   "outputs": [
    {
     "data": {
      "text/html": [
       "<div>\n",
       "<style scoped>\n",
       "    .dataframe tbody tr th:only-of-type {\n",
       "        vertical-align: middle;\n",
       "    }\n",
       "\n",
       "    .dataframe tbody tr th {\n",
       "        vertical-align: top;\n",
       "    }\n",
       "\n",
       "    .dataframe thead th {\n",
       "        text-align: right;\n",
       "    }\n",
       "</style>\n",
       "<table border=\"1\" class=\"dataframe\">\n",
       "  <thead>\n",
       "    <tr style=\"text-align: right;\">\n",
       "      <th></th>\n",
       "      <th>Date Time</th>\n",
       "      <th>p (mbar)</th>\n",
       "      <th>T (degC)</th>\n",
       "      <th>Tpot (K)</th>\n",
       "      <th>Tdew (degC)</th>\n",
       "      <th>rh (%)</th>\n",
       "      <th>VPmax (mbar)</th>\n",
       "      <th>VPact (mbar)</th>\n",
       "      <th>VPdef (mbar)</th>\n",
       "      <th>sh (g/kg)</th>\n",
       "      <th>H2OC (mmol/mol)</th>\n",
       "      <th>rho (g/m**3)</th>\n",
       "      <th>wv (m/s)</th>\n",
       "      <th>max. wv (m/s)</th>\n",
       "      <th>wd (deg)</th>\n",
       "    </tr>\n",
       "  </thead>\n",
       "  <tbody>\n",
       "    <tr>\n",
       "      <th>52564</th>\n",
       "      <td>31.12.2014 22:00:00</td>\n",
       "      <td>1006.92</td>\n",
       "      <td>1.94</td>\n",
       "      <td>274.56</td>\n",
       "      <td>1.75</td>\n",
       "      <td>98.6</td>\n",
       "      <td>7.03</td>\n",
       "      <td>6.93</td>\n",
       "      <td>0.1</td>\n",
       "      <td>4.29</td>\n",
       "      <td>6.88</td>\n",
       "      <td>1271.74</td>\n",
       "      <td>0.71</td>\n",
       "      <td>1.8</td>\n",
       "      <td>129.6</td>\n",
       "    </tr>\n",
       "  </tbody>\n",
       "</table>\n",
       "</div>"
      ],
      "text/plain": [
       "                 Date Time  p (mbar)    ...     max. wv (m/s)  wd (deg)\n",
       "52564  31.12.2014 22:00:00   1006.92    ...               1.8     129.6\n",
       "\n",
       "[1 rows x 15 columns]"
      ]
     },
     "execution_count": 5,
     "metadata": {},
     "output_type": "execute_result"
    }
   ],
   "source": [
    "#get the index for train-test split\n",
    "data[data['Date Time']=='31.12.2014 22:00:00']"
   ]
  },
  {
   "cell_type": "code",
   "execution_count": 6,
   "metadata": {
    "_uuid": "da16777950d7e20045ae696679ae6daa171a7102"
   },
   "outputs": [
    {
     "data": {
      "text/html": [
       "<div>\n",
       "<style scoped>\n",
       "    .dataframe tbody tr th:only-of-type {\n",
       "        vertical-align: middle;\n",
       "    }\n",
       "\n",
       "    .dataframe tbody tr th {\n",
       "        vertical-align: top;\n",
       "    }\n",
       "\n",
       "    .dataframe thead th {\n",
       "        text-align: right;\n",
       "    }\n",
       "</style>\n",
       "<table border=\"1\" class=\"dataframe\">\n",
       "  <thead>\n",
       "    <tr style=\"text-align: right;\">\n",
       "      <th></th>\n",
       "      <th>Date Time</th>\n",
       "      <th>p (mbar)</th>\n",
       "      <th>T (degC)</th>\n",
       "      <th>Tpot (K)</th>\n",
       "      <th>Tdew (degC)</th>\n",
       "      <th>rh (%)</th>\n",
       "      <th>VPmax (mbar)</th>\n",
       "      <th>VPact (mbar)</th>\n",
       "      <th>VPdef (mbar)</th>\n",
       "      <th>sh (g/kg)</th>\n",
       "      <th>H2OC (mmol/mol)</th>\n",
       "      <th>rho (g/m**3)</th>\n",
       "      <th>wv (m/s)</th>\n",
       "      <th>max. wv (m/s)</th>\n",
       "      <th>wd (deg)</th>\n",
       "    </tr>\n",
       "  </thead>\n",
       "  <tbody>\n",
       "    <tr>\n",
       "      <th>52560</th>\n",
       "      <td>31.12.2014 18:00:00</td>\n",
       "      <td>1005.71</td>\n",
       "      <td>2.44</td>\n",
       "      <td>275.15</td>\n",
       "      <td>2.16</td>\n",
       "      <td>98.0</td>\n",
       "      <td>7.29</td>\n",
       "      <td>7.14</td>\n",
       "      <td>0.15</td>\n",
       "      <td>4.43</td>\n",
       "      <td>7.10</td>\n",
       "      <td>1267.80</td>\n",
       "      <td>0.77</td>\n",
       "      <td>1.60</td>\n",
       "      <td>152.8</td>\n",
       "    </tr>\n",
       "    <tr>\n",
       "      <th>52561</th>\n",
       "      <td>31.12.2014 19:00:00</td>\n",
       "      <td>1006.20</td>\n",
       "      <td>2.27</td>\n",
       "      <td>274.94</td>\n",
       "      <td>1.96</td>\n",
       "      <td>97.8</td>\n",
       "      <td>7.19</td>\n",
       "      <td>7.04</td>\n",
       "      <td>0.16</td>\n",
       "      <td>4.36</td>\n",
       "      <td>6.99</td>\n",
       "      <td>1269.29</td>\n",
       "      <td>0.48</td>\n",
       "      <td>1.28</td>\n",
       "      <td>120.3</td>\n",
       "    </tr>\n",
       "    <tr>\n",
       "      <th>52562</th>\n",
       "      <td>31.12.2014 20:00:00</td>\n",
       "      <td>1006.28</td>\n",
       "      <td>2.14</td>\n",
       "      <td>274.81</td>\n",
       "      <td>1.89</td>\n",
       "      <td>98.2</td>\n",
       "      <td>7.13</td>\n",
       "      <td>7.00</td>\n",
       "      <td>0.13</td>\n",
       "      <td>4.34</td>\n",
       "      <td>6.96</td>\n",
       "      <td>1269.97</td>\n",
       "      <td>0.68</td>\n",
       "      <td>1.68</td>\n",
       "      <td>119.3</td>\n",
       "    </tr>\n",
       "    <tr>\n",
       "      <th>52563</th>\n",
       "      <td>31.12.2014 21:00:00</td>\n",
       "      <td>1006.69</td>\n",
       "      <td>1.96</td>\n",
       "      <td>274.60</td>\n",
       "      <td>1.72</td>\n",
       "      <td>98.3</td>\n",
       "      <td>7.04</td>\n",
       "      <td>6.92</td>\n",
       "      <td>0.12</td>\n",
       "      <td>4.29</td>\n",
       "      <td>6.87</td>\n",
       "      <td>1271.36</td>\n",
       "      <td>0.67</td>\n",
       "      <td>1.56</td>\n",
       "      <td>145.3</td>\n",
       "    </tr>\n",
       "    <tr>\n",
       "      <th>52564</th>\n",
       "      <td>31.12.2014 22:00:00</td>\n",
       "      <td>1006.92</td>\n",
       "      <td>1.94</td>\n",
       "      <td>274.56</td>\n",
       "      <td>1.75</td>\n",
       "      <td>98.6</td>\n",
       "      <td>7.03</td>\n",
       "      <td>6.93</td>\n",
       "      <td>0.10</td>\n",
       "      <td>4.29</td>\n",
       "      <td>6.88</td>\n",
       "      <td>1271.74</td>\n",
       "      <td>0.71</td>\n",
       "      <td>1.80</td>\n",
       "      <td>129.6</td>\n",
       "    </tr>\n",
       "  </tbody>\n",
       "</table>\n",
       "</div>"
      ],
      "text/plain": [
       "                 Date Time  p (mbar)    ...     max. wv (m/s)  wd (deg)\n",
       "52560  31.12.2014 18:00:00   1005.71    ...              1.60     152.8\n",
       "52561  31.12.2014 19:00:00   1006.20    ...              1.28     120.3\n",
       "52562  31.12.2014 20:00:00   1006.28    ...              1.68     119.3\n",
       "52563  31.12.2014 21:00:00   1006.69    ...              1.56     145.3\n",
       "52564  31.12.2014 22:00:00   1006.92    ...              1.80     129.6\n",
       "\n",
       "[5 rows x 15 columns]"
      ]
     },
     "execution_count": 6,
     "metadata": {},
     "output_type": "execute_result"
    }
   ],
   "source": [
    "data[:52565].tail()"
   ]
  },
  {
   "cell_type": "code",
   "execution_count": 7,
   "metadata": {
    "_uuid": "4b53d3fa28b43a6874c16eba571b9910cf4d22e8"
   },
   "outputs": [
    {
     "data": {
      "text/plain": [
       "array([[ 996.5 ,   -8.05,  265.38,   -8.78,   94.4 ,    3.33,    3.14,    0.19,    1.96,    3.15, 1307.86,\n",
       "           0.21,    0.63,  192.7 ],\n",
       "       [ 996.62,   -8.88,  264.54,   -9.77,   93.2 ,    3.12,    2.9 ,    0.21,    1.81,    2.91, 1312.25,\n",
       "           0.25,    0.63,  190.3 ],\n",
       "       [ 996.84,   -8.81,  264.59,   -9.66,   93.5 ,    3.13,    2.93,    0.2 ,    1.83,    2.94, 1312.18,\n",
       "           0.18,    0.63,  167.2 ]])"
      ]
     },
     "execution_count": 7,
     "metadata": {},
     "output_type": "execute_result"
    }
   ],
   "source": [
    "np.set_printoptions(suppress=True, precision=2,linewidth=110)\n",
    "#convert the data in numpy array excluding the Date Time Column\n",
    "values = data.iloc[:,1:].values\n",
    "values[:3]"
   ]
  },
  {
   "cell_type": "markdown",
   "metadata": {
    "_uuid": "accb993f7954c9ee1e8cf7c9f3cc31dc8c8dff53"
   },
   "source": [
    "## Prepare our data in a format supported by RNNs\n",
    "Define a Function to create the data in RNN/LSTM suited form. We will need to convert the timeseries data to a supervised dataframe that contains the number of timeframes that we want to refer to predict the future value. The below function does exactly this."
   ]
  },
  {
   "cell_type": "code",
   "execution_count": 8,
   "metadata": {
    "_uuid": "0712d901d38714e45ffd73a69992f3a5fa35d1fd",
    "collapsed": true
   },
   "outputs": [],
   "source": [
    "def series_to_supervised(mat,lookback,future_step=1):\n",
    "    '''\n",
    "    Convert a timeseries as a supervised learning dataset.\n",
    "    \n",
    "    References:\n",
    "    https://machinelearningmastery.com/convert-time-series-supervised-learning-problem-python/\n",
    "    \n",
    "    Arguments:\n",
    "        mat: [np.ndarray] a numpy nd array object with values in float format\n",
    "        lookback: [int] number of timeframes to look back in past (t-n,...,t-1). This does not include current time frame (t)\n",
    "                E.g. to look 24 hours data including current time-stamp, this value should be 23 (t-23,..,t-1 and t(covered in future_step)).\n",
    "        future_step: [int] number of timeframes to look in future (t,t+1,..,t+n). This includes the current time frame (t).\n",
    "                E.g. to look 1 timeframe ahead in future, the value should be 2 (t and t+1).\n",
    "        \n",
    "    Returns:\n",
    "        A pandas data frame with timeseries framed for supervised learning.\n",
    "    '''\n",
    "    \n",
    "    n_vars = mat.shape[-1]\n",
    "    df = pd.DataFrame(mat)\n",
    "\n",
    "    cols,names = list(),list()\n",
    "    #create input sequence (t-n,....,t-1)\n",
    "    for i in range(lookback,0,-1):\n",
    "        cols.append(df.shift(i))\n",
    "        names+=[('var%d(t-%d)'%(j+1,i)) for j in range(n_vars)]\n",
    "    #create forecast sequence (t,t+1,..,t+n)\n",
    "    for i in range(0,future_step):\n",
    "        cols.append(df.shift(-i))\n",
    "        if i==0:\n",
    "            names+=[('var%d(t)'%(j+1)) for j in range(n_vars)]\n",
    "        else:\n",
    "            names+=[('var%d(t+%d)'%(j+1,i)) for j in range(n_vars)]\n",
    "    #concatenate all columns\n",
    "    agg = pd.concat(cols,axis=1)\n",
    "    agg.columns = names\n",
    "    #drop nulls\n",
    "    agg.dropna(inplace=True)\n",
    "    #extract features and target variables and return these\n",
    "    features = agg.iloc[:,:336]\n",
    "    target = agg.iloc[:,337]\n",
    "    return features,target\n",
    "\n"
   ]
  },
  {
   "cell_type": "code",
   "execution_count": 9,
   "metadata": {
    "_uuid": "a97bfbb6703d4e9b8d45fe2d393b780dd755b7e0"
   },
   "outputs": [
    {
     "name": "stdout",
     "output_type": "stream",
     "text": [
      "(52542, 336)\n",
      "(52542,)\n",
      "(17471, 336)\n",
      "(17471,)\n"
     ]
    }
   ],
   "source": [
    "lookback=23\n",
    "future_step=2\n",
    "\n",
    "#prepare the training data in timeseries format\n",
    "\n",
    "x_train,y_train = series_to_supervised(values[:52564+future_step],23,2)\n",
    "\n",
    "#prepare the test data in timeseries format\n",
    "x_test,y_test = series_to_supervised(values[52565-lookback:],lookback,future_step)\n",
    "\n",
    "print(x_train.shape)\n",
    "print(y_train.shape)\n",
    "print(x_test.shape)\n",
    "print(y_test.shape)"
   ]
  },
  {
   "cell_type": "code",
   "execution_count": 10,
   "metadata": {
    "_uuid": "7f0891401e8d48f8afeeaa6639c1edf7f76bc1f0",
    "scrolled": true
   },
   "outputs": [
    {
     "name": "stdout",
     "output_type": "stream",
     "text": [
      "    var1(t-23)  var2(t-23)  var3(t-23)    ...     var12(t)  var13(t)  var14(t)\n",
      "23      996.50       -8.05      265.38    ...         0.41      0.88     155.0\n",
      "24      996.62       -8.88      264.54    ...         0.28      1.00     148.1\n",
      "25      996.84       -8.81      264.59    ...         0.49      0.88     209.8\n",
      "\n",
      "[3 rows x 336 columns]\n",
      "       var1(t-23)  var2(t-23)    ...     var13(t)  var14(t)\n",
      "52562     1004.46        1.53    ...         1.68     119.3\n",
      "52563     1004.23        1.46    ...         1.56     145.3\n",
      "52564     1004.40        1.47    ...         1.80     129.6\n",
      "\n",
      "[3 rows x 336 columns]\n"
     ]
    }
   ],
   "source": [
    "print(x_train.head(3))\n",
    "print(x_train.tail(3))"
   ]
  },
  {
   "cell_type": "code",
   "execution_count": 11,
   "metadata": {
    "_uuid": "39578ab7c1ceaef700a0701a9961689b7bb57ab6"
   },
   "outputs": [
    {
     "name": "stdout",
     "output_type": "stream",
     "text": [
      "23   -4.44\n",
      "24   -4.29\n",
      "25   -4.45\n",
      "Name: var2(t+1), dtype: float64\n",
      "52562    1.96\n",
      "52563    1.94\n",
      "52564    2.18\n",
      "Name: var2(t+1), dtype: float64\n"
     ]
    }
   ],
   "source": [
    "print(y_train.head(3))\n",
    "print(y_train.tail(3))"
   ]
  },
  {
   "cell_type": "code",
   "execution_count": 12,
   "metadata": {
    "_uuid": "423515ede6b15aae57894bfc3935ea9886d938ff"
   },
   "outputs": [
    {
     "name": "stdout",
     "output_type": "stream",
     "text": [
      "    var1(t-23)  var2(t-23)  var3(t-23)    ...     var12(t)  var13(t)  var14(t)\n",
      "23     1004.60        1.53      274.33    ...         0.35      0.86     140.8\n",
      "24     1004.32        1.43      274.25    ...         0.41      0.92     273.8\n",
      "25     1004.26        1.59      274.41    ...         0.43      0.88     119.1\n",
      "\n",
      "[3 rows x 336 columns]\n",
      "       var1(t-23)  var2(t-23)    ...     var13(t)  var14(t)\n",
      "17491     1008.93       -2.63    ...         1.48    207.50\n",
      "17492     1008.82       -2.98    ...         0.72      8.15\n",
      "17493     1008.67       -4.09    ...         1.30    223.70\n",
      "\n",
      "[3 rows x 336 columns]\n"
     ]
    }
   ],
   "source": [
    "print(x_test.head(3))\n",
    "print(x_test.tail(3))"
   ]
  },
  {
   "cell_type": "code",
   "execution_count": 13,
   "metadata": {
    "_uuid": "b3f53ae98351b4ecdaec6cbd869d64d7ffb33615",
    "scrolled": true
   },
   "outputs": [
    {
     "name": "stdout",
     "output_type": "stream",
     "text": [
      "23    2.06\n",
      "24    2.22\n",
      "25    2.04\n",
      "Name: var2(t+1), dtype: float64\n",
      "17491   -2.59\n",
      "17492   -3.76\n",
      "17493   -4.82\n",
      "Name: var2(t+1), dtype: float64\n"
     ]
    }
   ],
   "source": [
    "print(y_test.head(3))\n",
    "print(y_test.tail(3))"
   ]
  },
  {
   "cell_type": "markdown",
   "metadata": {
    "_uuid": "0c8e4a46bb3449c6cd525ff27849a1be15d74167"
   },
   "source": [
    "** Scale the data**\n",
    "<br>The features are scaled using ``MinMaxScalar``. Scaling is not performed on target variables, the network is supposed to learn the relationships as this problem is similar to regression."
   ]
  },
  {
   "cell_type": "code",
   "execution_count": 33,
   "metadata": {
    "_uuid": "b76629a7716833b9e2d9e8d647f4e48b9991631f",
    "collapsed": true
   },
   "outputs": [],
   "source": [
    "scalar = MinMaxScaler(feature_range=(0,1))\n",
    "scalar.fit(x_train)\n",
    "x_train_scaled = scalar.transform(x_train)\n",
    "x_test_scaled = scalar.transform(x_test)"
   ]
  },
  {
   "cell_type": "code",
   "execution_count": 34,
   "metadata": {
    "_uuid": "11d00254df81954ad2bb2d34a46ab0a29d2e412c",
    "scrolled": true
   },
   "outputs": [
    {
     "name": "stdout",
     "output_type": "stream",
     "text": [
      "[[0.83 0.25 0.25 ... 0.03 0.04 0.43]\n",
      " [0.83 0.24 0.23 ... 0.02 0.05 0.41]\n",
      " [0.83 0.24 0.23 ... 0.04 0.04 0.58]]\n",
      "[[0.91 0.42 0.4  ... 0.03 0.04 0.39]\n",
      " [0.91 0.42 0.4  ... 0.03 0.05 0.76]\n",
      " [0.91 0.42 0.4  ... 0.03 0.04 0.33]]\n"
     ]
    }
   ],
   "source": [
    "print(x_train_scaled[:3])\n",
    "print(x_test_scaled[:3])"
   ]
  },
  {
   "cell_type": "code",
   "execution_count": 35,
   "metadata": {
    "_uuid": "defbfa48bcabbb9746d158dbe0960aa8a8f9cce4",
    "collapsed": true
   },
   "outputs": [],
   "source": [
    "#reshape the train and test data\n",
    "x_train_reshaped= x_train_scaled.reshape(x_train_scaled.shape[0],24,14)\n",
    "x_test_reshaped = x_test_scaled.reshape(x_test_scaled.shape[0],24,14)"
   ]
  },
  {
   "cell_type": "code",
   "execution_count": 36,
   "metadata": {
    "_uuid": "0dbe3f7d764172481e99ad5b41e870b4b3f088c8"
   },
   "outputs": [
    {
     "name": "stdout",
     "output_type": "stream",
     "text": [
      "(52542, 24, 14)\n",
      "(17471, 24, 14)\n",
      "(52542,)\n",
      "(17471,)\n"
     ]
    }
   ],
   "source": [
    "print(x_train_reshaped.shape)\n",
    "print(x_test_reshaped.shape)\n",
    "print(y_train.shape)\n",
    "print(y_test.shape)"
   ]
  },
  {
   "cell_type": "markdown",
   "metadata": {
    "_uuid": "0189e50d8428ecd4ad4b563acf99dfc3c556a415"
   },
   "source": [
    "# Defining a Strategy For This Problem\n",
    "The below steps define the overall strategy for this project. \n",
    "1. Create a Trimmed version of data set. This is to facilitate our experimentation with various network architectures and parameters.\n",
    "2. Create various network architectures and run the model to test the performance.\n",
    "3. Change various parameters of the networks e.g. batch_size, epochs, activation nodes etc and select the best parameters\n",
    "4. Split the main training data into train and validation sets to run the models.\n",
    "5. Select few top model architectures and fit train data from above step and validate the performance with validation set created in above step.\n",
    "6. Select the best model with optimal parameters (to avoid overfitting) based on above results.\n",
    "7. Train the best model on whole training data and make the predictions on test data.\n",
    "8. Create the submission file in the format specified and submit.\n"
   ]
  },
  {
   "cell_type": "markdown",
   "metadata": {
    "_uuid": "b4b71938b11c3c984510904b990cffb7cd98704c"
   },
   "source": [
    "## 1. Create Trimmed version of data\n",
    "The data is sampled randomly from the dataframe. 10000 samples will be extracted and will be split into train and test data to proceed with our experimentations."
   ]
  },
  {
   "cell_type": "code",
   "execution_count": 30,
   "metadata": {
    "_uuid": "49d2ad730179a0ef291760a453b8162cdeed8d53",
    "collapsed": true
   },
   "outputs": [],
   "source": [
    "sample_size=10000\n",
    "np.random.seed(10)\n",
    "rand_idx = np.random.choice(range(len(x_train)),10000)\n",
    "x_trim = x_train.iloc[rand_idx,:]\n",
    "y_trim = y_train.iloc[rand_idx]"
   ]
  },
  {
   "cell_type": "code",
   "execution_count": 31,
   "metadata": {
    "_uuid": "3f1d5611e5e04b486c52446e500330eaac643d9e"
   },
   "outputs": [
    {
     "name": "stdout",
     "output_type": "stream",
     "text": [
      "(6700, 336)\n",
      "(3300, 336)\n",
      "(6700,)\n",
      "(3300,)\n"
     ]
    }
   ],
   "source": [
    "##create train_test split for the trimmed datset\n",
    "trainx,testx,trainy,testy = train_test_split(x_trim,y_trim,test_size=0.33,random_state=10)\n",
    "print(trainx.shape)\n",
    "print(testx.shape)\n",
    "print(trainy.shape)\n",
    "print(testy.shape)"
   ]
  },
  {
   "cell_type": "code",
   "execution_count": 37,
   "metadata": {
    "_uuid": "6fe5bf31d5aa82d2a43a0ae3790db2a2e0b506dc",
    "scrolled": true
   },
   "outputs": [
    {
     "name": "stdout",
     "output_type": "stream",
     "text": [
      "[[0.73 0.39 0.4  0.49 0.89 0.09 0.17 0.01 0.17 0.17 0.58 0.18 0.15 0.72 0.74 0.39 0.39 0.48 0.87 0.09 0.17\n",
      "  0.02 0.16 0.17 0.59 0.12 0.12 0.72 0.74 0.39 0.39 0.48 0.88 0.09 0.17 0.02 0.17 0.17 0.59 0.06 0.06 0.71\n",
      "  0.75 0.38 0.38 0.48 0.88 0.09 0.16 0.01 0.16 0.16 0.6  0.11 0.11 0.69 0.75 0.38 0.38 0.47 0.88 0.08 0.16\n",
      "  0.01 0.16 0.16 0.6  0.09 0.08 0.61 0.74 0.38 0.38 0.46 0.82 0.09 0.15 0.02 0.15 0.15 0.6  0.19 0.16 0.6\n",
      "  0.74 0.4  0.41 0.46 0.73 0.1  0.15 0.04 0.15 0.15 0.58 0.1  0.09 0.61 0.73 0.42 0.42 0.46 0.7  0.1  0.15\n",
      "  0.04 0.15 0.15 0.56 0.2  0.19 0.56 0.72 0.41 0.42 0.47 0.73 0.1  0.16 0.04 0.16 0.16 0.56 0.2  0.19 0.56\n",
      "  0.71 0.42 0.43 0.48 0.71 0.11 0.16 0.04 0.16 0.16 0.55 0.47 0.4  0.6  0.7  0.41 0.42 0.47 0.73 0.1  0.16\n",
      "  0.04 0.16 0.16 0.56 0.31 0.32 0.6  0.69 0.41 0.42 0.46 0.72 0.1  0.15 0.04 0.15 0.15 0.56 0.18 0.15 0.57\n",
      "  0.69 0.4  0.41 0.45 0.72 0.1  0.15 0.04 0.15 0.15 0.56 0.2  0.2  0.5  0.68 0.4  0.41 0.45 0.73 0.09 0.15\n",
      "  0.04 0.15 0.15 0.56 0.25 0.22 0.51 0.66 0.39 0.41 0.46 0.78 0.09 0.15 0.03 0.15 0.15 0.56 0.36 0.31 0.51\n",
      "  0.65 0.39 0.41 0.46 0.76 0.09 0.15 0.03 0.15 0.15 0.55 0.43 0.37 0.5  0.63 0.4  0.41 0.46 0.75 0.09 0.15\n",
      "  0.03 0.15 0.15 0.54 0.33 0.37 0.52 0.62 0.4  0.42 0.46 0.73 0.1  0.15 0.04 0.15 0.15 0.54 0.4  0.38 0.53\n",
      "  0.61 0.4  0.42 0.48 0.81 0.09 0.16 0.03 0.16 0.17 0.53 0.25 0.25 0.5  0.61 0.39 0.42 0.49 0.87 0.09 0.17\n",
      "  0.02 0.17 0.17 0.54 0.25 0.24 0.42 0.6  0.4  0.42 0.49 0.86 0.09 0.17 0.02 0.17 0.18 0.53 0.17 0.19 0.46\n",
      "  0.6  0.41 0.43 0.5  0.85 0.1  0.18 0.02 0.18 0.18 0.52 0.17 0.27 0.53 0.59 0.42 0.44 0.51 0.85 0.1  0.19\n",
      "  0.02 0.19 0.19 0.51 0.15 0.17 0.64 0.59 0.41 0.44 0.51 0.85 0.1  0.19 0.02 0.19 0.19 0.51 0.15 0.2  0.49]\n",
      " [0.68 0.81 0.82 0.92 0.69 0.52 0.78 0.2  0.78 0.78 0.23 0.14 0.18 0.07 0.68 0.79 0.8  0.92 0.77 0.48 0.8\n",
      "  0.14 0.8  0.8  0.24 0.08 0.1  0.96 0.67 0.78 0.79 0.92 0.77 0.47 0.79 0.13 0.79 0.79 0.24 0.18 0.14 0.1\n",
      "  0.67 0.79 0.8  0.92 0.73 0.49 0.78 0.16 0.78 0.78 0.24 0.15 0.15 0.15 0.67 0.77 0.79 0.91 0.77 0.46 0.77\n",
      "  0.13 0.77 0.77 0.25 0.12 0.15 0.3  0.66 0.74 0.75 0.9  0.88 0.4  0.74 0.06 0.74 0.74 0.27 0.05 0.05 0.08\n",
      "  0.66 0.74 0.75 0.92 0.9  0.41 0.78 0.05 0.78 0.78 0.27 0.08 0.08 0.91 0.67 0.74 0.75 0.92 0.92 0.4  0.78\n",
      "  0.04 0.78 0.78 0.27 0.09 0.1  0.44 0.66 0.73 0.75 0.92 0.94 0.39 0.78 0.03 0.78 0.78 0.27 0.19 0.17 0.73\n",
      "  0.66 0.73 0.74 0.91 0.94 0.38 0.77 0.03 0.77 0.77 0.28 0.07 0.08 0.55 0.66 0.72 0.73 0.91 0.95 0.38 0.76\n",
      "  0.02 0.76 0.76 0.28 0.1  0.08 0.04 0.67 0.72 0.73 0.91 0.96 0.37 0.76 0.02 0.76 0.76 0.29 0.05 0.05 0.63\n",
      "  0.66 0.73 0.74 0.91 0.93 0.38 0.75 0.03 0.75 0.75 0.28 0.11 0.09 0.8  0.66 0.72 0.73 0.91 0.96 0.37 0.75\n",
      "  0.02 0.75 0.75 0.29 0.04 0.05 0.29 0.66 0.7  0.72 0.89 0.96 0.35 0.72 0.02 0.72 0.72 0.3  0.11 0.1  0.08\n",
      "  0.66 0.71 0.72 0.89 0.97 0.35 0.72 0.02 0.72 0.73 0.3  0.11 0.11 0.03 0.66 0.71 0.72 0.9  0.97 0.36 0.73\n",
      "  0.01 0.73 0.73 0.3  0.07 0.07 0.36 0.66 0.71 0.72 0.9  0.96 0.36 0.73 0.02 0.73 0.73 0.29 0.03 0.04 0.86\n",
      "  0.66 0.71 0.72 0.89 0.94 0.36 0.72 0.03 0.72 0.73 0.29 0.05 0.05 0.92 0.66 0.72 0.73 0.89 0.93 0.37 0.72\n",
      "  0.03 0.72 0.72 0.29 0.04 0.05 0.77 0.67 0.73 0.74 0.9  0.9  0.39 0.74 0.05 0.74 0.74 0.28 0.02 0.03 0.28\n",
      "  0.67 0.75 0.76 0.91 0.84 0.42 0.75 0.09 0.75 0.76 0.27 0.08 0.08 0.44 0.67 0.74 0.75 0.9  0.85 0.41 0.74\n",
      "  0.07 0.74 0.74 0.27 0.17 0.15 0.09 0.68 0.74 0.75 0.92 0.9  0.4  0.77 0.05 0.77 0.77 0.28 0.06 0.11 0.75]]\n",
      "[[0.64 0.37 0.38 0.45 0.87 0.08 0.15 0.02 0.15 0.15 0.57 0.04 0.05 0.49 0.64 0.36 0.37 0.45 0.91 0.08 0.15\n",
      "  0.01 0.15 0.15 0.58 0.09 0.08 0.12 0.65 0.36 0.38 0.46 0.91 0.08 0.15 0.01 0.15 0.15 0.58 0.03 0.06 0.\n",
      "  0.65 0.35 0.36 0.45 0.93 0.07 0.15 0.01 0.15 0.15 0.59 0.11 0.09 0.1  0.65 0.35 0.37 0.45 0.92 0.07 0.15\n",
      "  0.01 0.15 0.15 0.59 0.14 0.12 0.   0.66 0.35 0.36 0.45 0.93 0.07 0.14 0.01 0.14 0.15 0.59 0.04 0.05 0.58\n",
      "  0.66 0.35 0.36 0.45 0.93 0.07 0.15 0.01 0.15 0.15 0.59 0.05 0.04 0.76 0.66 0.35 0.36 0.45 0.92 0.07 0.14\n",
      "  0.01 0.14 0.14 0.59 0.1  0.07 0.1  0.66 0.35 0.36 0.45 0.94 0.07 0.15 0.01 0.15 0.15 0.59 0.03 0.04 0.\n",
      "  0.66 0.35 0.37 0.46 0.94 0.07 0.15 0.01 0.15 0.15 0.59 0.14 0.13 0.03 0.66 0.36 0.37 0.46 0.95 0.08 0.15\n",
      "  0.01 0.15 0.16 0.59 0.2  0.15 0.01 0.66 0.37 0.38 0.48 0.94 0.08 0.16 0.01 0.16 0.16 0.58 0.13 0.13 0.99\n",
      "  0.65 0.37 0.38 0.48 0.95 0.08 0.17 0.01 0.16 0.17 0.57 0.11 0.09 0.99 0.65 0.37 0.39 0.48 0.96 0.08 0.17\n",
      "  0.01 0.17 0.17 0.57 0.08 0.09 0.99 0.64 0.37 0.39 0.48 0.96 0.08 0.17 0.   0.17 0.17 0.57 0.18 0.14 0.03\n",
      "  0.64 0.37 0.38 0.48 0.97 0.08 0.17 0.   0.17 0.17 0.57 0.21 0.16 0.01 0.64 0.36 0.38 0.48 0.98 0.08 0.16\n",
      "  0.   0.16 0.17 0.57 0.23 0.19 0.02 0.64 0.36 0.38 0.48 0.98 0.08 0.17 0.   0.17 0.17 0.57 0.15 0.13 0.99\n",
      "  0.64 0.37 0.38 0.48 0.98 0.08 0.17 0.   0.17 0.17 0.57 0.16 0.13 0.04 0.64 0.37 0.39 0.49 0.98 0.08 0.17\n",
      "  0.   0.17 0.17 0.57 0.17 0.13 0.05 0.63 0.37 0.39 0.49 0.98 0.08 0.17 0.   0.17 0.17 0.56 0.13 0.11 0.02\n",
      "  0.63 0.38 0.4  0.5  0.97 0.08 0.18 0.   0.18 0.18 0.56 0.07 0.06 0.01 0.63 0.38 0.4  0.5  0.97 0.09 0.18\n",
      "  0.   0.18 0.18 0.55 0.16 0.13 0.05 0.63 0.39 0.41 0.51 0.97 0.09 0.19 0.   0.19 0.19 0.55 0.08 0.07 0.07]\n",
      " [0.82 0.64 0.63 0.75 0.77 0.28 0.46 0.08 0.45 0.45 0.41 0.12 0.1  0.73 0.82 0.64 0.63 0.75 0.77 0.28 0.46\n",
      "  0.08 0.45 0.45 0.41 0.08 0.08 0.73 0.82 0.64 0.63 0.76 0.79 0.27 0.46 0.07 0.45 0.46 0.41 0.14 0.12 0.72\n",
      "  0.82 0.63 0.63 0.75 0.79 0.27 0.46 0.07 0.45 0.45 0.41 0.11 0.1  0.67 0.82 0.63 0.62 0.76 0.82 0.26 0.46\n",
      "  0.06 0.45 0.46 0.42 0.13 0.13 0.6  0.82 0.64 0.63 0.75 0.79 0.27 0.46 0.07 0.45 0.45 0.41 0.03 0.05 0.09\n",
      "  0.83 0.65 0.64 0.77 0.79 0.28 0.48 0.07 0.47 0.47 0.41 0.01 0.04 0.88 0.83 0.64 0.63 0.75 0.79 0.27 0.46\n",
      "  0.07 0.45 0.45 0.42 0.1  0.1  0.04 0.83 0.59 0.58 0.74 0.93 0.23 0.45 0.02 0.44 0.44 0.45 0.21 0.18 0.09\n",
      "  0.83 0.59 0.58 0.75 0.96 0.22 0.46 0.01 0.45 0.45 0.45 0.13 0.12 0.06 0.83 0.6  0.6  0.77 0.96 0.24 0.48\n",
      "  0.01 0.47 0.48 0.44 0.01 0.05 0.34 0.82 0.62 0.61 0.77 0.92 0.25 0.49 0.02 0.48 0.48 0.43 0.04 0.06 0.49\n",
      "  0.82 0.62 0.61 0.77 0.91 0.25 0.49 0.03 0.48 0.49 0.42 0.11 0.09 0.46 0.82 0.62 0.62 0.78 0.93 0.26 0.51\n",
      "  0.02 0.5  0.5  0.42 0.08 0.07 0.46 0.82 0.63 0.62 0.79 0.94 0.26 0.51 0.02 0.5  0.51 0.42 0.05 0.06 0.38\n",
      "  0.82 0.62 0.61 0.79 0.94 0.26 0.51 0.02 0.5  0.5  0.42 0.06 0.07 0.3  0.82 0.61 0.6  0.77 0.91 0.25 0.48\n",
      "  0.03 0.47 0.47 0.43 0.02 0.04 0.63 0.82 0.6  0.59 0.75 0.93 0.23 0.46 0.02 0.45 0.45 0.44 0.08 0.07 0.64\n",
      "  0.83 0.59 0.58 0.74 0.94 0.22 0.44 0.02 0.43 0.44 0.45 0.02 0.03 0.6  0.83 0.58 0.57 0.74 0.96 0.22 0.44\n",
      "  0.01 0.43 0.44 0.46 0.   0.02 0.43 0.84 0.58 0.57 0.74 0.97 0.21 0.44 0.01 0.43 0.43 0.46 0.   0.01 0.2\n",
      "  0.84 0.57 0.56 0.73 0.98 0.2  0.42 0.01 0.41 0.41 0.47 0.01 0.03 0.51 0.84 0.55 0.54 0.71 0.99 0.19 0.4\n",
      "  0.   0.39 0.39 0.49 0.03 0.07 0.54 0.84 0.54 0.53 0.7  0.99 0.18 0.38 0.   0.37 0.38 0.5  0.04 0.06 0.65]]\n"
     ]
    }
   ],
   "source": [
    "## scale the data using ``MinMaxScalar``\n",
    "## I will the scalar already fit on the full training data\n",
    "trainx = scalar.transform(trainx)\n",
    "testx = scalar.transform(testx)\n",
    "\n",
    "print(trainx[:2])\n",
    "print(testx[:2])"
   ]
  },
  {
   "cell_type": "code",
   "execution_count": 38,
   "metadata": {
    "_uuid": "15b7f131a2ec3316c4a2ddcc755d03d305bed9b6"
   },
   "outputs": [
    {
     "name": "stdout",
     "output_type": "stream",
     "text": [
      "Reshaped data\n",
      "(6700, 24, 14)\n",
      "(3300, 24, 14)\n",
      "(6700,)\n",
      "(3300,)\n"
     ]
    }
   ],
   "source": [
    "#reshape the data for LSTM\n",
    "trainx = trainx.reshape(trainx.shape[0],24,14)\n",
    "testx = testx.reshape(testx.shape[0],24,14)\n",
    "trainy = np.array(trainy)\n",
    "testy=np.array(testy)\n",
    "print('Reshaped data')\n",
    "print(trainx.shape)\n",
    "print(testx.shape)\n",
    "print(trainy.shape)\n",
    "print(testy.shape)"
   ]
  },
  {
   "cell_type": "markdown",
   "metadata": {
    "_uuid": "71d9f1a386acd69e8c9e0d496f7c59d5ae09b733"
   },
   "source": [
    "## 2. Create Various Network Architecture and Test the Performance"
   ]
  },
  {
   "cell_type": "markdown",
   "metadata": {
    "_uuid": "698ecd51c900bb1afc36bd74030d77c2ee36f056"
   },
   "source": [
    "Define a function to plot the results of train and test loss. <br>The below function receives the train_loss, validation_loss and number of epochs as a parameter and plots the results."
   ]
  },
  {
   "cell_type": "code",
   "execution_count": 44,
   "metadata": {
    "_uuid": "150011f1b562892e500855f7d9254e26e0226902",
    "collapsed": true
   },
   "outputs": [],
   "source": [
    "def plot_results(loss,val_loss,n_epochs):\n",
    "    epochs = range(1,n_epochs+1)\n",
    "    plt.subplot(211)\n",
    "    #plot results\n",
    "    plt.plot(epochs,loss,'--r',label='Train Loss')\n",
    "    plt.xlabel('Epochs')\n",
    "    plt.ylabel('MAE')\n",
    "    plt.title('Train Loss Plot')\n",
    "    plt.show()\n",
    "    plt.subplot(212)\n",
    "    plt.plot(epochs,val_loss,'--b',label='Test Loss')\n",
    "    plt.xlabel('Epochs')\n",
    "    plt.ylabel('MAE')\n",
    "    plt.title('Test Loss Plot')\n",
    "    plt.show()\n"
   ]
  },
  {
   "cell_type": "markdown",
   "metadata": {
    "_uuid": "c106b0be7bcd3dc9ca014c14f9f6946d29ea4eac"
   },
   "source": [
    "**Design our first network**"
   ]
  },
  {
   "cell_type": "code",
   "execution_count": 49,
   "metadata": {
    "_uuid": "364d269f97a7c526cf7e0a861e77e8409101a831",
    "collapsed": true
   },
   "outputs": [],
   "source": [
    "epochs = 30\n",
    "bs = 64"
   ]
  },
  {
   "cell_type": "code",
   "execution_count": 47,
   "metadata": {
    "_uuid": "94c87103073fd9708e7e0fbb424b450cb28d626c"
   },
   "outputs": [
    {
     "name": "stdout",
     "output_type": "stream",
     "text": [
      "_________________________________________________________________\n",
      "Layer (type)                 Output Shape              Param #   \n",
      "=================================================================\n",
      "lstm_3 (LSTM)                (None, 1)                 64        \n",
      "=================================================================\n",
      "Total params: 64\n",
      "Trainable params: 64\n",
      "Non-trainable params: 0\n",
      "_________________________________________________________________\n"
     ]
    }
   ],
   "source": [
    "base_model = Sequential()\n",
    "base_model.add(LSTM(1,input_shape=(24,14),return_sequences=False))\n",
    "base_model.compile(loss='mae',optimizer='adam')\n",
    "base_model.summary()"
   ]
  },
  {
   "cell_type": "code",
   "execution_count": 48,
   "metadata": {
    "_uuid": "debf47f2350731d66bc511869811b0e3438b8161",
    "scrolled": false
   },
   "outputs": [
    {
     "name": "stdout",
     "output_type": "stream",
     "text": [
      "Train on 6700 samples, validate on 3300 samples\n",
      "Epoch 1/30\n",
      "6700/6700 [==============================] - 7s 1ms/step - loss: 10.4432 - val_loss: 10.1524\n",
      "Epoch 2/30\n",
      "6700/6700 [==============================] - 6s 929us/step - loss: 10.0425 - val_loss: 9.8641\n",
      "Epoch 3/30\n",
      "6700/6700 [==============================] - 6s 918us/step - loss: 9.8581 - val_loss: 9.7398\n",
      "Epoch 4/30\n",
      "6700/6700 [==============================] - 6s 934us/step - loss: 9.8012 - val_loss: 9.7354\n",
      "Epoch 5/30\n",
      "6700/6700 [==============================] - 6s 922us/step - loss: 9.7999 - val_loss: 9.7348\n",
      "Epoch 6/30\n",
      "6700/6700 [==============================] - 6s 934us/step - loss: 9.7993 - val_loss: 9.7341\n",
      "Epoch 7/30\n",
      "6700/6700 [==============================] - 6s 941us/step - loss: 9.7986 - val_loss: 9.7335\n",
      "Epoch 8/30\n",
      "6700/6700 [==============================] - 6s 933us/step - loss: 9.7980 - val_loss: 9.7328\n",
      "Epoch 9/30\n",
      "6700/6700 [==============================] - 6s 952us/step - loss: 9.7973 - val_loss: 9.7321\n",
      "Epoch 10/30\n",
      "6700/6700 [==============================] - 6s 930us/step - loss: 9.7966 - val_loss: 9.7314\n",
      "Epoch 11/30\n",
      "6700/6700 [==============================] - 6s 937us/step - loss: 9.7959 - val_loss: 9.7307\n",
      "Epoch 12/30\n",
      "6700/6700 [==============================] - 6s 903us/step - loss: 9.7952 - val_loss: 9.7299\n",
      "Epoch 13/30\n",
      "6700/6700 [==============================] - 6s 899us/step - loss: 9.7944 - val_loss: 9.7291\n",
      "Epoch 14/30\n",
      "6700/6700 [==============================] - 6s 920us/step - loss: 9.7936 - val_loss: 9.7281\n",
      "Epoch 15/30\n",
      "6700/6700 [==============================] - 6s 932us/step - loss: 9.7925 - val_loss: 9.7268\n",
      "Epoch 16/30\n",
      "6700/6700 [==============================] - 6s 919us/step - loss: 9.7908 - val_loss: 9.7244\n",
      "Epoch 17/30\n",
      "6700/6700 [==============================] - 6s 929us/step - loss: 9.7871 - val_loss: 9.7187\n",
      "Epoch 18/30\n",
      "6700/6700 [==============================] - 6s 940us/step - loss: 9.7776 - val_loss: 9.7048\n",
      "Epoch 19/30\n",
      "6700/6700 [==============================] - 6s 926us/step - loss: 9.7598 - val_loss: 9.6833\n",
      "Epoch 20/30\n",
      "6700/6700 [==============================] - 6s 914us/step - loss: 9.7379 - val_loss: 9.6596\n",
      "Epoch 21/30\n",
      "6700/6700 [==============================] - 6s 941us/step - loss: 9.7150 - val_loss: 9.6361\n",
      "Epoch 22/30\n",
      "6700/6700 [==============================] - 6s 930us/step - loss: 9.6962 - val_loss: 9.6247\n",
      "Epoch 23/30\n",
      "6700/6700 [==============================] - 6s 923us/step - loss: 9.6860 - val_loss: 9.6076\n",
      "Epoch 24/30\n",
      "6700/6700 [==============================] - 6s 922us/step - loss: 9.6770 - val_loss: 9.6023\n",
      "Epoch 25/30\n",
      "6700/6700 [==============================] - 6s 917us/step - loss: 9.6734 - val_loss: 9.5964\n",
      "Epoch 26/30\n",
      "6700/6700 [==============================] - 6s 941us/step - loss: 9.6687 - val_loss: 9.5932\n",
      "Epoch 27/30\n",
      "6700/6700 [==============================] - 6s 930us/step - loss: 9.6648 - val_loss: 9.5905\n",
      "Epoch 28/30\n",
      "6700/6700 [==============================] - 6s 935us/step - loss: 9.6611 - val_loss: 9.5876\n",
      "Epoch 29/30\n",
      "6700/6700 [==============================] - 6s 934us/step - loss: 9.6580 - val_loss: 9.5842\n",
      "Epoch 30/30\n",
      "6700/6700 [==============================] - 6s 925us/step - loss: 9.6551 - val_loss: 9.5805\n"
     ]
    }
   ],
   "source": [
    "history = base_model.fit(trainx,trainy,epochs=epochs,batch_size=bs,validation_data=(testx,testy),shuffle=False)"
   ]
  },
  {
   "cell_type": "code",
   "execution_count": 50,
   "metadata": {
    "_uuid": "1cfb61e353571c1bafe94a920cacd5529a29f244"
   },
   "outputs": [
    {
     "data": {
      "image/png": "[encoded data removed]",
      "text/plain": [
       "<Figure size 432x288 with 1 Axes>"
      ]
     },
     "metadata": {
      "needs_background": "light"
     },
     "output_type": "display_data"
    },
    {
     "data": {
      "image/png": "[encoded data removed]",
      "text/plain": [
       "<Figure size 432x288 with 1 Axes>"
      ]
     },
     "metadata": {
      "needs_background": "light"
     },
     "output_type": "display_data"
    }
   ],
   "source": [
    "loss = history.history['loss']\n",
    "val_loss = history.history['val_loss']\n",
    "plot_results(loss,val_loss,epochs)"
   ]
  },
  {
   "cell_type": "markdown",
   "metadata": {
    "_uuid": "7604a2fa6230f68863c890fc55402725b30014ba"
   },
   "source": [
    "It is a decent start. The above graph gives a positive sign. The error is decreasing with the number of epochs which means that our model is learning with each epoch. <br> **This model can serve as a base model.**"
   ]
  },
  {
   "cell_type": "markdown",
   "metadata": {
    "_uuid": "4ee3b63a79e973b9154b0984b3e6e9b4e830ed1a"
   },
   "source": [
    "**Stacking LSTMs**"
   ]
  },
  {
   "cell_type": "code",
   "execution_count": 40,
   "metadata": {
    "_uuid": "ea2d4a6a85c91d0191c7bc61fdcdde45b2d11073",
    "collapsed": true
   },
   "outputs": [],
   "source": [
    "model = Sequential()"
   ]
  },
  {
   "cell_type": "code",
   "execution_count": 41,
   "metadata": {
    "_uuid": "964f5d5c777f63c38bda02edc50fd6482d19f2ac",
    "collapsed": true
   },
   "outputs": [],
   "source": [
    "model.add(LSTM(1,input_shape=(24,14),return_sequences=True,activation = 'relu'))\n",
    "model.add(LSTM((1),return_sequences=False))\n",
    "#model.add(Dense(1,activation='softmax'))\n",
    "model.compile(loss='mae',optimizer='adam')"
   ]
  },
  {
   "cell_type": "code",
   "execution_count": 42,
   "metadata": {
    "_uuid": "60655dc09703ff2acb884781f30164bf48a23f29"
   },
   "outputs": [
    {
     "name": "stdout",
     "output_type": "stream",
     "text": [
      "_________________________________________________________________\n",
      "Layer (type)                 Output Shape              Param #   \n",
      "=================================================================\n",
      "lstm_1 (LSTM)                (None, 24, 1)             64        \n",
      "_________________________________________________________________\n",
      "lstm_2 (LSTM)                (None, 1)                 12        \n",
      "=================================================================\n",
      "Total params: 76\n",
      "Trainable params: 76\n",
      "Non-trainable params: 0\n",
      "_________________________________________________________________\n"
     ]
    }
   ],
   "source": [
    "model.summary()"
   ]
  },
  {
   "cell_type": "code",
   "execution_count": 43,
   "metadata": {
    "_uuid": "c699309d72fb09fff10c24eb1d6e86c488f789f8",
    "scrolled": true
   },
   "outputs": [
    {
     "name": "stdout",
     "output_type": "stream",
     "text": [
      "Train on 6700 samples, validate on 3300 samples\n",
      "Epoch 1/30\n",
      "6700/6700 [==============================] - 14s 2ms/step - loss: 10.3918 - val_loss: 10.2056\n",
      "Epoch 2/30\n",
      "6700/6700 [==============================] - 12s 2ms/step - loss: 10.2324 - val_loss: 10.1101\n",
      "Epoch 3/30\n",
      "6700/6700 [==============================] - 12s 2ms/step - loss: 10.1518 - val_loss: 10.0441\n",
      "Epoch 4/30\n",
      "6700/6700 [==============================] - 12s 2ms/step - loss: 10.0903 - val_loss: 9.9884\n",
      "Epoch 5/30\n",
      "6700/6700 [==============================] - 12s 2ms/step - loss: 10.0277 - val_loss: 9.9020\n",
      "Epoch 6/30\n",
      "6700/6700 [==============================] - 12s 2ms/step - loss: 9.8340 - val_loss: 9.7404\n",
      "Epoch 7/30\n",
      "6700/6700 [==============================] - 12s 2ms/step - loss: 9.8053 - val_loss: 9.7404\n",
      "Epoch 8/30\n",
      "6700/6700 [==============================] - 12s 2ms/step - loss: 9.8053 - val_loss: 9.7404\n",
      "Epoch 9/30\n",
      "6700/6700 [==============================] - 12s 2ms/step - loss: 9.8053 - val_loss: 9.7404\n",
      "Epoch 10/30\n",
      "6700/6700 [==============================] - 12s 2ms/step - loss: 9.8053 - val_loss: 9.7404\n",
      "Epoch 11/30\n",
      "6700/6700 [==============================] - 12s 2ms/step - loss: 9.8053 - val_loss: 9.7404\n",
      "Epoch 12/30\n",
      "6700/6700 [==============================] - 12s 2ms/step - loss: 9.8053 - val_loss: 9.7404\n",
      "Epoch 13/30\n",
      "6700/6700 [==============================] - 12s 2ms/step - loss: 9.8053 - val_loss: 9.7404\n",
      "Epoch 14/30\n",
      "6700/6700 [==============================] - 12s 2ms/step - loss: 9.8053 - val_loss: 9.7404\n",
      "Epoch 15/30\n",
      "6700/6700 [==============================] - 12s 2ms/step - loss: 9.8053 - val_loss: 9.7404\n",
      "Epoch 16/30\n",
      "6700/6700 [==============================] - 12s 2ms/step - loss: 9.8053 - val_loss: 9.7404\n",
      "Epoch 17/30\n",
      "6700/6700 [==============================] - 12s 2ms/step - loss: 9.8053 - val_loss: 9.7404\n",
      "Epoch 18/30\n",
      "6700/6700 [==============================] - 12s 2ms/step - loss: 9.8053 - val_loss: 9.7404\n",
      "Epoch 19/30\n",
      "6700/6700 [==============================] - 12s 2ms/step - loss: 9.8053 - val_loss: 9.7404\n",
      "Epoch 20/30\n",
      "6700/6700 [==============================] - 12s 2ms/step - loss: 9.8053 - val_loss: 9.7404\n",
      "Epoch 21/30\n",
      "6700/6700 [==============================] - 12s 2ms/step - loss: 9.8053 - val_loss: 9.7404\n",
      "Epoch 22/30\n",
      "6700/6700 [==============================] - 12s 2ms/step - loss: 9.8053 - val_loss: 9.7404\n",
      "Epoch 23/30\n",
      "6700/6700 [==============================] - 12s 2ms/step - loss: 9.8053 - val_loss: 9.7404\n",
      "Epoch 24/30\n",
      "6700/6700 [==============================] - 12s 2ms/step - loss: 9.8053 - val_loss: 9.7404\n",
      "Epoch 25/30\n",
      "6700/6700 [==============================] - 12s 2ms/step - loss: 9.8053 - val_loss: 9.7404\n",
      "Epoch 26/30\n",
      "6700/6700 [==============================] - 12s 2ms/step - loss: 9.8053 - val_loss: 9.7404\n",
      "Epoch 27/30\n",
      "6700/6700 [==============================] - 12s 2ms/step - loss: 9.8053 - val_loss: 9.7404\n",
      "Epoch 28/30\n",
      "6700/6700 [==============================] - 12s 2ms/step - loss: 9.8053 - val_loss: 9.7404\n",
      "Epoch 29/30\n",
      "6700/6700 [==============================] - 12s 2ms/step - loss: 9.8053 - val_loss: 9.7404\n",
      "Epoch 30/30\n",
      "6700/6700 [==============================] - 12s 2ms/step - loss: 9.8053 - val_loss: 9.7404\n"
     ]
    }
   ],
   "source": [
    "history = model.fit(trainx,trainy,epochs=30,batch_size=64,validation_data=(testx,testy),shuffle=False)"
   ]
  },
  {
   "cell_type": "code",
   "execution_count": 46,
   "metadata": {
    "_uuid": "7ae7c4133cf7a06ab3795228c9ed6913ac79cd32",
    "scrolled": false
   },
   "outputs": [
    {
     "data": {
      "image/png": "[encoded data removed]",
      "text/plain": [
       "<Figure size 432x288 with 1 Axes>"
      ]
     },
     "metadata": {
      "needs_background": "light"
     },
     "output_type": "display_data"
    },
    {
     "data": {
      "image/png": "[encoded data removed]",
      "text/plain": [
       "<Figure size 432x288 with 1 Axes>"
      ]
     },
     "metadata": {
      "needs_background": "light"
     },
     "output_type": "display_data"
    }
   ],
   "source": [
    "loss = history.history['loss']\n",
    "val_loss = history.history['val_loss']\n",
    "plot_results(loss,val_loss,30)"
   ]
  },
  {
   "cell_type": "code",
   "execution_count": 51,
   "metadata": {
    "_uuid": "f6d96dcbd4de69473ef2e43be3ee2342482ed627"
   },
   "outputs": [
    {
     "name": "stdout",
     "output_type": "stream",
     "text": [
      "Train on 6700 samples, validate on 3300 samples\n",
      "Epoch 1/20\n",
      "6700/6700 [==============================] - 6s 919us/step - loss: 9.8053 - val_loss: 9.7404\n",
      "Epoch 2/20\n",
      "6700/6700 [==============================] - 6s 908us/step - loss: 9.8053 - val_loss: 9.7404\n",
      "Epoch 3/20\n",
      "6700/6700 [==============================] - 6s 899us/step - loss: 9.8053 - val_loss: 9.7404\n",
      "Epoch 4/20\n",
      "6700/6700 [==============================] - 6s 906us/step - loss: 9.8053 - val_loss: 9.7404\n",
      "Epoch 5/20\n",
      "6700/6700 [==============================] - 6s 909us/step - loss: 9.8053 - val_loss: 9.7404\n",
      "Epoch 6/20\n",
      "6700/6700 [==============================] - 6s 896us/step - loss: 9.8053 - val_loss: 9.7404\n",
      "Epoch 7/20\n",
      "6700/6700 [==============================] - 6s 900us/step - loss: 9.8053 - val_loss: 9.7404\n",
      "Epoch 8/20\n",
      "6700/6700 [==============================] - 6s 920us/step - loss: 9.8053 - val_loss: 9.7404\n",
      "Epoch 9/20\n",
      "6700/6700 [==============================] - 6s 903us/step - loss: 9.8053 - val_loss: 9.7404\n",
      "Epoch 10/20\n",
      "6700/6700 [==============================] - 6s 902us/step - loss: 9.8053 - val_loss: 9.7404\n",
      "Epoch 11/20\n",
      "6700/6700 [==============================] - 6s 888us/step - loss: 9.8053 - val_loss: 9.7404\n",
      "Epoch 12/20\n",
      "6700/6700 [==============================] - 6s 902us/step - loss: 9.8053 - val_loss: 9.7404\n",
      "Epoch 13/20\n",
      "6700/6700 [==============================] - 6s 908us/step - loss: 9.8053 - val_loss: 9.7404\n",
      "Epoch 14/20\n",
      "6700/6700 [==============================] - 6s 901us/step - loss: 9.8053 - val_loss: 9.7404\n",
      "Epoch 15/20\n",
      "6700/6700 [==============================] - 6s 907us/step - loss: 9.8053 - val_loss: 9.7404\n",
      "Epoch 16/20\n",
      "6700/6700 [==============================] - 6s 907us/step - loss: 9.8053 - val_loss: 9.7404\n",
      "Epoch 17/20\n",
      "6700/6700 [==============================] - 6s 905us/step - loss: 9.8053 - val_loss: 9.7404\n",
      "Epoch 18/20\n",
      "6700/6700 [==============================] - 6s 900us/step - loss: 9.8053 - val_loss: 9.7404\n",
      "Epoch 19/20\n",
      "6700/6700 [==============================] - 6s 890us/step - loss: 9.8053 - val_loss: 9.7404\n",
      "Epoch 20/20\n",
      "6700/6700 [==============================] - 6s 906us/step - loss: 9.8053 - val_loss: 9.7404\n"
     ]
    }
   ],
   "source": [
    "epochs = 20\n",
    "bs = 128\n",
    "history = model.fit(trainx,trainy,epochs=epochs,batch_size=bs,validation_data=(testx,testy),shuffle=False)"
   ]
  },
  {
   "cell_type": "code",
   "execution_count": 58,
   "metadata": {
    "_uuid": "1fc5fa9fd0a8f1ded7eecbf5d5660ec5256cb2fd",
    "scrolled": true
   },
   "outputs": [
    {
     "data": {
      "image/png": "[encoded data removed]",
      "text/plain": [
       "<Figure size 432x288 with 1 Axes>"
      ]
     },
     "metadata": {
      "needs_background": "light"
     },
     "output_type": "display_data"
    },
    {
     "data": {
      "image/png": "[encoded data removed]",
      "text/plain": [
       "<Figure size 432x288 with 1 Axes>"
      ]
     },
     "metadata": {
      "needs_background": "light"
     },
     "output_type": "display_data"
    }
   ],
   "source": [
    "loss = history.history['loss']\n",
    "val_loss = history.history['val_loss']\n",
    "plot_results(loss,val_loss,epochs)"
   ]
  },
  {
   "cell_type": "markdown",
   "metadata": {
    "_uuid": "163674b8d4f6a749f5ac7bf40eb3a48b4c38a21f"
   },
   "source": [
    "I will stick to the batch_size = 64 as it gave me a smooth learning curve for both train and test results."
   ]
  },
  {
   "cell_type": "code",
   "execution_count": 59,
   "metadata": {
    "_uuid": "3dc9fd64c4111cdb33a3d0a6e7f29ae768952025",
    "collapsed": true
   },
   "outputs": [],
   "source": [
    "epochs = 20\n",
    "bs = 64"
   ]
  },
  {
   "cell_type": "code",
   "execution_count": 60,
   "metadata": {
    "_uuid": "45683b4c9ac866b689a0cfd0970303f2dbe10713"
   },
   "outputs": [
    {
     "name": "stdout",
     "output_type": "stream",
     "text": [
      "_________________________________________________________________\n",
      "Layer (type)                 Output Shape              Param #   \n",
      "=================================================================\n",
      "lstm_4 (LSTM)                (None, 24, 2)             136       \n",
      "_________________________________________________________________\n",
      "lstm_5 (LSTM)                (None, 1)                 16        \n",
      "=================================================================\n",
      "Total params: 152\n",
      "Trainable params: 152\n",
      "Non-trainable params: 0\n",
      "_________________________________________________________________\n"
     ]
    }
   ],
   "source": [
    "m1 = Sequential()\n",
    "m1.add(LSTM(2,input_shape=(24,14),return_sequences=True,activation = 'relu'))\n",
    "m1.add(LSTM(1,return_sequences=False))\n",
    "#m1.add(Dense(1,activation='softmax'))\n",
    "m1.compile(loss='mae',optimizer='adam')\n",
    "\n",
    "m1.summary()"
   ]
  },
  {
   "cell_type": "code",
   "execution_count": 61,
   "metadata": {
    "_uuid": "e460ef41ac18de995482e9bb7f95e499ffb57615",
    "scrolled": false
   },
   "outputs": [
    {
     "name": "stdout",
     "output_type": "stream",
     "text": [
      "Train on 6700 samples, validate on 3300 samples\n",
      "Epoch 1/20\n",
      "6700/6700 [==============================] - 14s 2ms/step - loss: 10.4726 - val_loss: 10.3625\n",
      "Epoch 2/20\n",
      "6700/6700 [==============================] - 12s 2ms/step - loss: 10.3973 - val_loss: 10.2300\n",
      "Epoch 3/20\n",
      "6700/6700 [==============================] - 12s 2ms/step - loss: 10.1345 - val_loss: 9.8438\n",
      "Epoch 4/20\n",
      "6700/6700 [==============================] - 12s 2ms/step - loss: 9.8744 - val_loss: 9.7633\n",
      "Epoch 5/20\n",
      "6700/6700 [==============================] - 12s 2ms/step - loss: 9.8057 - val_loss: 9.6993\n",
      "Epoch 6/20\n",
      "6700/6700 [==============================] - 12s 2ms/step - loss: 9.7445 - val_loss: 9.6396\n",
      "Epoch 7/20\n",
      "6700/6700 [==============================] - 12s 2ms/step - loss: 9.6849 - val_loss: 9.5867\n",
      "Epoch 8/20\n",
      "6700/6700 [==============================] - 12s 2ms/step - loss: 9.6436 - val_loss: 9.5664\n",
      "Epoch 9/20\n",
      "6700/6700 [==============================] - 12s 2ms/step - loss: 9.6368 - val_loss: 9.5644\n",
      "Epoch 10/20\n",
      "6700/6700 [==============================] - 12s 2ms/step - loss: 9.6347 - val_loss: 9.5628\n",
      "Epoch 11/20\n",
      "6700/6700 [==============================] - 12s 2ms/step - loss: 9.6327 - val_loss: 9.5615\n",
      "Epoch 12/20\n",
      "6700/6700 [==============================] - 12s 2ms/step - loss: 9.6309 - val_loss: 9.5600\n",
      "Epoch 13/20\n",
      "6700/6700 [==============================] - 12s 2ms/step - loss: 9.6288 - val_loss: 9.5596\n",
      "Epoch 14/20\n",
      "6700/6700 [==============================] - 12s 2ms/step - loss: 9.6269 - val_loss: 9.5582\n",
      "Epoch 15/20\n",
      "6700/6700 [==============================] - 12s 2ms/step - loss: 9.6250 - val_loss: 9.5575\n",
      "Epoch 16/20\n",
      "6700/6700 [==============================] - 12s 2ms/step - loss: 9.6234 - val_loss: 9.5569\n",
      "Epoch 17/20\n",
      "6700/6700 [==============================] - 12s 2ms/step - loss: 9.6219 - val_loss: 9.5548\n",
      "Epoch 18/20\n",
      "6700/6700 [==============================] - 12s 2ms/step - loss: 9.6206 - val_loss: 9.5527\n",
      "Epoch 19/20\n",
      "6700/6700 [==============================] - 12s 2ms/step - loss: 9.6191 - val_loss: 9.5512\n",
      "Epoch 20/20\n",
      "6700/6700 [==============================] - 12s 2ms/step - loss: 9.6176 - val_loss: 9.5499\n"
     ]
    }
   ],
   "source": [
    "history = m1.fit(trainx,trainy,epochs=epochs,batch_size=bs,validation_data=(testx,testy),shuffle=False)"
   ]
  },
  {
   "cell_type": "code",
   "execution_count": 62,
   "metadata": {
    "_uuid": "51e410b19d52b09b9ceec940d520dc8da68ceb09"
   },
   "outputs": [
    {
     "data": {
      "image/png": "[encoded data removed]",
      "text/plain": [
       "<Figure size 432x288 with 1 Axes>"
      ]
     },
     "metadata": {
      "needs_background": "light"
     },
     "output_type": "display_data"
    },
    {
     "data": {
      "image/png": "[encoded data removed]",
      "text/plain": [
       "<Figure size 432x288 with 1 Axes>"
      ]
     },
     "metadata": {
      "needs_background": "light"
     },
     "output_type": "display_data"
    }
   ],
   "source": [
    "loss = history.history['loss']\n",
    "val_loss = history.history['val_loss']\n",
    "plot_results(loss,val_loss,epochs)"
   ]
  },
  {
   "cell_type": "markdown",
   "metadata": {
    "_uuid": "3451cbf4896227e253371c6826db76edb5566af7"
   },
   "source": [
    "**Stack 3 LSTMs with 100 activation nodes each, 2 Dense Layers. Use Dropout to avoid overfitting the network**"
   ]
  },
  {
   "cell_type": "code",
   "execution_count": 63,
   "metadata": {
    "_uuid": "61e689fabbefbfb869e48c4bc84ecf5ff9155bbe"
   },
   "outputs": [
    {
     "name": "stdout",
     "output_type": "stream",
     "text": [
      "_________________________________________________________________\n",
      "Layer (type)                 Output Shape              Param #   \n",
      "=================================================================\n",
      "lstm_6 (LSTM)                (None, 24, 100)           46000     \n",
      "_________________________________________________________________\n",
      "lstm_7 (LSTM)                (None, 24, 100)           80400     \n",
      "_________________________________________________________________\n",
      "lstm_8 (LSTM)                (None, 100)               80400     \n",
      "_________________________________________________________________\n",
      "dropout_1 (Dropout)          (None, 100)               0         \n",
      "_________________________________________________________________\n",
      "dense_1 (Dense)              (None, 100)               10100     \n",
      "_________________________________________________________________\n",
      "dropout_2 (Dropout)          (None, 100)               0         \n",
      "_________________________________________________________________\n",
      "dense_2 (Dense)              (None, 1)                 101       \n",
      "=================================================================\n",
      "Total params: 217,001\n",
      "Trainable params: 217,001\n",
      "Non-trainable params: 0\n",
      "_________________________________________________________________\n"
     ]
    }
   ],
   "source": [
    "#Stack more LSTM layers with 100 activation nodes and two Dense layers. Use Dropout to avoid overfitting the network.\n",
    "m2 = Sequential()\n",
    "m2.add(LSTM(100,input_shape=(24,14),return_sequences=True,activation = 'relu'))\n",
    "m2.add(LSTM(100,return_sequences=True,activation='relu'))\n",
    "m2.add(LSTM(100,return_sequences=False,activation='relu'))\n",
    "m2.add(keras.layers.Dropout(0.25))\n",
    "m2.add(Dense(100,activation='relu'))\n",
    "m2.add(keras.layers.Dropout(0.25))\n",
    "m2.add(Dense(1))\n",
    "m2.compile(loss='mae',optimizer='adam')\n",
    "\n",
    "m2.summary()"
   ]
  },
  {
   "cell_type": "code",
   "execution_count": 64,
   "metadata": {
    "_uuid": "a863f6187be3960cdf3dc638579b6256d52b58ac"
   },
   "outputs": [
    {
     "name": "stdout",
     "output_type": "stream",
     "text": [
      "Train on 6700 samples, validate on 3300 samples\n",
      "Epoch 1/20\n",
      "6700/6700 [==============================] - 23s 3ms/step - loss: 6.6892 - val_loss: 3.8032\n",
      "Epoch 2/20\n",
      "6700/6700 [==============================] - 20s 3ms/step - loss: 3.3276 - val_loss: 2.5996\n",
      "Epoch 3/20\n",
      "6700/6700 [==============================] - 20s 3ms/step - loss: 2.8626 - val_loss: 2.4523\n",
      "Epoch 4/20\n",
      "6700/6700 [==============================] - 20s 3ms/step - loss: 2.7439 - val_loss: 2.4556\n",
      "Epoch 5/20\n",
      "6700/6700 [==============================] - 20s 3ms/step - loss: 2.5704 - val_loss: 2.1239\n",
      "Epoch 6/20\n",
      "6700/6700 [==============================] - 20s 3ms/step - loss: 2.4799 - val_loss: 2.0734\n",
      "Epoch 7/20\n",
      "6700/6700 [==============================] - 20s 3ms/step - loss: 2.4804 - val_loss: 1.9029\n",
      "Epoch 8/20\n",
      "6700/6700 [==============================] - 20s 3ms/step - loss: 2.2541 - val_loss: 1.5786\n",
      "Epoch 9/20\n",
      "6700/6700 [==============================] - 20s 3ms/step - loss: 1.9241 - val_loss: 1.4425\n",
      "Epoch 10/20\n",
      "6700/6700 [==============================] - 20s 3ms/step - loss: 1.6953 - val_loss: 1.0177\n",
      "Epoch 11/20\n",
      "6700/6700 [==============================] - 20s 3ms/step - loss: 1.6121 - val_loss: 0.9861\n",
      "Epoch 12/20\n",
      "6700/6700 [==============================] - 20s 3ms/step - loss: 1.5126 - val_loss: 0.8774\n",
      "Epoch 13/20\n",
      "6700/6700 [==============================] - 20s 3ms/step - loss: 1.4608 - val_loss: 0.7690\n",
      "Epoch 14/20\n",
      "6700/6700 [==============================] - 20s 3ms/step - loss: 1.3618 - val_loss: 0.7242\n",
      "Epoch 15/20\n",
      "6700/6700 [==============================] - 20s 3ms/step - loss: 1.3202 - val_loss: 0.7235\n",
      "Epoch 16/20\n",
      "6700/6700 [==============================] - 20s 3ms/step - loss: 1.3025 - val_loss: 0.7595\n",
      "Epoch 17/20\n",
      "6700/6700 [==============================] - 20s 3ms/step - loss: 1.3115 - val_loss: 0.9865\n",
      "Epoch 18/20\n",
      "6700/6700 [==============================] - 20s 3ms/step - loss: 1.2552 - val_loss: 0.6916\n",
      "Epoch 19/20\n",
      "6700/6700 [==============================] - 20s 3ms/step - loss: 1.2706 - val_loss: 0.6567\n",
      "Epoch 20/20\n",
      "6700/6700 [==============================] - 20s 3ms/step - loss: 1.3040 - val_loss: 0.7195\n"
     ]
    }
   ],
   "source": [
    "history = m2.fit(trainx,trainy,epochs=epochs,batch_size=bs,validation_data=(testx,testy),shuffle=False)"
   ]
  },
  {
   "cell_type": "code",
   "execution_count": 65,
   "metadata": {
    "_uuid": "0d915369621c3c270b2e78663e9d00fc842edea4"
   },
   "outputs": [
    {
     "data": {
      "image/png": "[encoded data removed]",
      "text/plain": [
       "<Figure size 432x288 with 1 Axes>"
      ]
     },
     "metadata": {
      "needs_background": "light"
     },
     "output_type": "display_data"
    },
    {
     "data": {
      "image/png": "[encoded data removed]",
      "text/plain": [
       "<Figure size 432x288 with 1 Axes>"
      ]
     },
     "metadata": {
      "needs_background": "light"
     },
     "output_type": "display_data"
    }
   ],
   "source": [
    "loss = history.history['loss']\n",
    "val_loss = history.history['val_loss']\n",
    "plot_results(loss,val_loss,epochs)"
   ]
  },
  {
   "cell_type": "markdown",
   "metadata": {
    "_uuid": "59d61f6fc5e30578de54334ed578d8340ccd706d"
   },
   "source": [
    "The error has come down significantly for both train and validation set. This could be because of either increased number of activation nodes in LSTM or because of including multiple dense layers. <br>Let us observe next, the effect of increasing just the activations of LSTM keeping the Dense layer to 1."
   ]
  },
  {
   "cell_type": "code",
   "execution_count": 68,
   "metadata": {
    "_uuid": "9c890046d0b7f780ecb0031d5e25d6b7d665a2a7"
   },
   "outputs": [
    {
     "name": "stdout",
     "output_type": "stream",
     "text": [
      "_________________________________________________________________\n",
      "Layer (type)                 Output Shape              Param #   \n",
      "=================================================================\n",
      "lstm_11 (LSTM)               (None, 24, 50)            13000     \n",
      "_________________________________________________________________\n",
      "lstm_12 (LSTM)               (None, 50)                20200     \n",
      "_________________________________________________________________\n",
      "dense_4 (Dense)              (None, 1)                 51        \n",
      "=================================================================\n",
      "Total params: 33,251\n",
      "Trainable params: 33,251\n",
      "Non-trainable params: 0\n",
      "_________________________________________________________________\n"
     ]
    }
   ],
   "source": [
    "#Stack LSTM with default activation function\n",
    "m3 = Sequential()\n",
    "m3.add(LSTM(50,return_sequences=True,input_shape = (24,14)))\n",
    "m3.add(LSTM(50,return_sequences=False))\n",
    "m3.add(Dense(1))\n",
    "\n",
    "m3.compile(loss='mae',optimizer='adam')\n",
    "\n",
    "m3.summary()"
   ]
  },
  {
   "cell_type": "code",
   "execution_count": 69,
   "metadata": {
    "_uuid": "404772de1718db3bb1f916fecbac7a03fa00e27a"
   },
   "outputs": [
    {
     "name": "stdout",
     "output_type": "stream",
     "text": [
      "Train on 6700 samples, validate on 3300 samples\n",
      "Epoch 1/20\n",
      "6700/6700 [==============================] - 15s 2ms/step - loss: 7.4334 - val_loss: 6.8985\n",
      "Epoch 2/20\n",
      "6700/6700 [==============================] - 13s 2ms/step - loss: 6.4374 - val_loss: 4.6993\n",
      "Epoch 3/20\n",
      "6700/6700 [==============================] - 13s 2ms/step - loss: 3.6608 - val_loss: 2.8978\n",
      "Epoch 4/20\n",
      "6700/6700 [==============================] - 13s 2ms/step - loss: 2.7871 - val_loss: 2.4327\n",
      "Epoch 5/20\n",
      "6700/6700 [==============================] - 13s 2ms/step - loss: 2.0634 - val_loss: 1.6072\n",
      "Epoch 6/20\n",
      "6700/6700 [==============================] - 13s 2ms/step - loss: 1.4063 - val_loss: 1.1971\n",
      "Epoch 7/20\n",
      "6700/6700 [==============================] - 13s 2ms/step - loss: 1.1146 - val_loss: 0.9742\n",
      "Epoch 8/20\n",
      "6700/6700 [==============================] - 13s 2ms/step - loss: 0.9061 - val_loss: 0.8536\n",
      "Epoch 9/20\n",
      "6700/6700 [==============================] - 13s 2ms/step - loss: 0.7870 - val_loss: 0.7591\n",
      "Epoch 10/20\n",
      "6700/6700 [==============================] - 13s 2ms/step - loss: 0.7249 - val_loss: 0.6974\n",
      "Epoch 11/20\n",
      "6700/6700 [==============================] - 13s 2ms/step - loss: 0.6474 - val_loss: 0.6222\n",
      "Epoch 12/20\n",
      "6700/6700 [==============================] - 13s 2ms/step - loss: 0.6126 - val_loss: 0.5983\n",
      "Epoch 13/20\n",
      "6700/6700 [==============================] - 13s 2ms/step - loss: 0.5882 - val_loss: 0.5916\n",
      "Epoch 14/20\n",
      "6700/6700 [==============================] - 13s 2ms/step - loss: 0.5742 - val_loss: 0.5623\n",
      "Epoch 15/20\n",
      "6700/6700 [==============================] - 13s 2ms/step - loss: 0.5674 - val_loss: 0.5912\n",
      "Epoch 16/20\n",
      "6700/6700 [==============================] - 13s 2ms/step - loss: 0.5595 - val_loss: 0.5491\n",
      "Epoch 17/20\n",
      "6700/6700 [==============================] - 13s 2ms/step - loss: 0.5459 - val_loss: 0.5342\n",
      "Epoch 18/20\n",
      "6700/6700 [==============================] - 13s 2ms/step - loss: 0.5339 - val_loss: 0.5501\n",
      "Epoch 19/20\n",
      "6700/6700 [==============================] - 13s 2ms/step - loss: 0.5317 - val_loss: 0.5402\n",
      "Epoch 20/20\n",
      "6700/6700 [==============================] - 13s 2ms/step - loss: 0.5217 - val_loss: 0.5172\n"
     ]
    }
   ],
   "source": [
    "history = m3.fit(trainx,trainy,epochs=epochs,batch_size=bs,validation_data=(testx,testy),shuffle=False)"
   ]
  },
  {
   "cell_type": "code",
   "execution_count": 70,
   "metadata": {
    "_uuid": "ff58e4484bac6989fd3683ec11dd9b0628d75f75",
    "scrolled": false
   },
   "outputs": [
    {
     "data": {
      "image/png": "[encoded data removed]",
      "text/plain": [
       "<Figure size 432x288 with 1 Axes>"
      ]
     },
     "metadata": {
      "needs_background": "light"
     },
     "output_type": "display_data"
    },
    {
     "data": {
      "image/png": "[encoded data removed]",
      "text/plain": [
       "<Figure size 432x288 with 1 Axes>"
      ]
     },
     "metadata": {
      "needs_background": "light"
     },
     "output_type": "display_data"
    }
   ],
   "source": [
    "loss = history.history['loss']\n",
    "val_loss = history.history['val_loss']\n",
    "plot_results(loss,val_loss,epochs)"
   ]
  },
  {
   "cell_type": "markdown",
   "metadata": {
    "_uuid": "58f773dcb29ae7ed7d282407c0b434d9920e4437"
   },
   "source": [
    "The above model gave good results. The train and validation error has come under 1, which is a really good performance. The error still seems to be decreasing. We can perhaps achieve even better results by increasing the number of epochs for this network architecture. However, for our experimentation, I will stop here and experiment with other architectures first."
   ]
  },
  {
   "cell_type": "markdown",
   "metadata": {
    "_uuid": "3133182607c7b8c9a45f46b47decfb8e60a26591"
   },
   "source": [
    "Now, I want to experiment with stacking 3 LSTM layers on top of 2 dense layers with 25% dropout. Essentially, This network is similar to the m2 network trained above. However, I am using 50 activations for LSTM layers and using the default activation function ``hard_sigmoid`` and not ``relu``"
   ]
  },
  {
   "cell_type": "code",
   "execution_count": 77,
   "metadata": {
    "_uuid": "bae458dc9c6a4982cb9f02e470c7b48058cc3b38",
    "scrolled": true
   },
   "outputs": [
    {
     "name": "stdout",
     "output_type": "stream",
     "text": [
      "_________________________________________________________________\n",
      "Layer (type)                 Output Shape              Param #   \n",
      "=================================================================\n",
      "lstm_19 (LSTM)               (None, 24, 50)            13000     \n",
      "_________________________________________________________________\n",
      "lstm_20 (LSTM)               (None, 24, 50)            20200     \n",
      "_________________________________________________________________\n",
      "lstm_21 (LSTM)               (None, 50)                20200     \n",
      "_________________________________________________________________\n",
      "dropout_3 (Dropout)          (None, 50)                0         \n",
      "_________________________________________________________________\n",
      "dense_8 (Dense)              (None, 100)               5100      \n",
      "_________________________________________________________________\n",
      "dropout_4 (Dropout)          (None, 100)               0         \n",
      "_________________________________________________________________\n",
      "dense_9 (Dense)              (None, 1)                 101       \n",
      "=================================================================\n",
      "Total params: 58,601\n",
      "Trainable params: 58,601\n",
      "Non-trainable params: 0\n",
      "_________________________________________________________________\n"
     ]
    }
   ],
   "source": [
    "m5 = Sequential()\n",
    "m5.add(LSTM(50,return_sequences=True,input_shape = (24,14)))\n",
    "m5.add(LSTM(50,return_sequences=True))\n",
    "m5.add(LSTM(50,return_sequences=False))\n",
    "m5.add(Dropout(0.25))\n",
    "m5.add(Dense(100))\n",
    "m5.add(Dropout(0.25))\n",
    "m5.add(Dense(1))\n",
    "\n",
    "m5.compile(loss='mae',optimizer='adam')\n",
    "m5.summary()"
   ]
  },
  {
   "cell_type": "code",
   "execution_count": 78,
   "metadata": {
    "_uuid": "150629caab04a492abc28ee1d05ed50461942fae"
   },
   "outputs": [
    {
     "name": "stdout",
     "output_type": "stream",
     "text": [
      "Train on 6700 samples, validate on 3300 samples\n",
      "Epoch 1/20\n",
      "6700/6700 [==============================] - 23s 3ms/step - loss: 5.3631 - val_loss: 3.0409\n",
      "Epoch 2/20\n",
      "6700/6700 [==============================] - 20s 3ms/step - loss: 3.0748 - val_loss: 2.4808\n",
      "Epoch 3/20\n",
      "6700/6700 [==============================] - 20s 3ms/step - loss: 2.2747 - val_loss: 1.6461\n",
      "Epoch 4/20\n",
      "6700/6700 [==============================] - 19s 3ms/step - loss: 1.7518 - val_loss: 1.1768\n",
      "Epoch 5/20\n",
      "6700/6700 [==============================] - 20s 3ms/step - loss: 1.4871 - val_loss: 0.9829\n",
      "Epoch 6/20\n",
      "6700/6700 [==============================] - 20s 3ms/step - loss: 1.2795 - val_loss: 1.0011\n",
      "Epoch 7/20\n",
      "6700/6700 [==============================] - 20s 3ms/step - loss: 1.2494 - val_loss: 0.7054\n",
      "Epoch 8/20\n",
      "6700/6700 [==============================] - 20s 3ms/step - loss: 1.1688 - val_loss: 0.6984\n",
      "Epoch 9/20\n",
      "6700/6700 [==============================] - 20s 3ms/step - loss: 1.1652 - val_loss: 0.7655\n",
      "Epoch 10/20\n",
      "6700/6700 [==============================] - 20s 3ms/step - loss: 1.0779 - val_loss: 0.6290\n",
      "Epoch 11/20\n",
      "6700/6700 [==============================] - 20s 3ms/step - loss: 1.1011 - val_loss: 0.5466\n",
      "Epoch 12/20\n",
      "6700/6700 [==============================] - 20s 3ms/step - loss: 1.0854 - val_loss: 0.6173\n",
      "Epoch 13/20\n",
      "6700/6700 [==============================] - 19s 3ms/step - loss: 1.0651 - val_loss: 0.5614\n",
      "Epoch 14/20\n",
      "6700/6700 [==============================] - 20s 3ms/step - loss: 1.0133 - val_loss: 0.7407\n",
      "Epoch 15/20\n",
      "6700/6700 [==============================] - 20s 3ms/step - loss: 1.0342 - val_loss: 0.5650\n",
      "Epoch 16/20\n",
      "6700/6700 [==============================] - 20s 3ms/step - loss: 1.0116 - val_loss: 0.5306\n",
      "Epoch 17/20\n",
      "6700/6700 [==============================] - 20s 3ms/step - loss: 0.9963 - val_loss: 0.6788\n",
      "Epoch 18/20\n",
      "6700/6700 [==============================] - 20s 3ms/step - loss: 1.0014 - val_loss: 0.5298\n",
      "Epoch 19/20\n",
      "6700/6700 [==============================] - 20s 3ms/step - loss: 1.0147 - val_loss: 0.5450\n",
      "Epoch 20/20\n",
      "6700/6700 [==============================] - 20s 3ms/step - loss: 0.9931 - val_loss: 0.5307\n"
     ]
    }
   ],
   "source": [
    "history = m5.fit(trainx,trainy,epochs=20,batch_size=64,validation_data=(testx,testy),shuffle=False)"
   ]
  },
  {
   "cell_type": "code",
   "execution_count": 79,
   "metadata": {
    "_uuid": "b291ea7c51336780d6fb5afd320881f1e16beffb"
   },
   "outputs": [
    {
     "data": {
      "image/png": "[encoded data removed]",
      "text/plain": [
       "<Figure size 432x288 with 1 Axes>"
      ]
     },
     "metadata": {
      "needs_background": "light"
     },
     "output_type": "display_data"
    },
    {
     "data": {
      "image/png": "[encoded data removed]",
      "text/plain": [
       "<Figure size 432x288 with 1 Axes>"
      ]
     },
     "metadata": {
      "needs_background": "light"
     },
     "output_type": "display_data"
    }
   ],
   "source": [
    "loss = history.history['loss']\n",
    "val_loss = history.history['val_loss']\n",
    "plot_results(loss,val_loss,epochs)"
   ]
  },
  {
   "cell_type": "markdown",
   "metadata": {
    "_uuid": "090e7e98f0dcdeaa2dfd7484fbb7f4d4a821322e"
   },
   "source": [
    "I can see improved results from the similar model m2 trained above. This improvement was because of non-inclusion of activation function within the layers of the network."
   ]
  },
  {
   "cell_type": "markdown",
   "metadata": {
    "_uuid": "33cc2c801e3299e091c84bff50c47a59a5c75da7"
   },
   "source": [
    "### Bidirectional LSTMs with Dense layer"
   ]
  },
  {
   "cell_type": "code",
   "execution_count": 74,
   "metadata": {
    "_uuid": "31981f0d663764125db9b61dff8ee39d52824977",
    "collapsed": true
   },
   "outputs": [],
   "source": [
    "## One Bidirectional LSTM with LSTM and Dense layer\n",
    "m4 = Sequential()\n",
    "m4.add(Bidirectional(LSTM(50,return_sequences=True,input_shape = (24,14))))\n",
    "m4.add(LSTM(50,return_sequences=False))\n",
    "m4.add(Dense(1))\n",
    "m4.compile(loss='mae',optimizer='adam')\n",
    "\n",
    "#m4.summary()"
   ]
  },
  {
   "cell_type": "code",
   "execution_count": 75,
   "metadata": {
    "_uuid": "9696a9db3c3a3c4f3d3293d5deb90ec50397b0ce"
   },
   "outputs": [
    {
     "name": "stdout",
     "output_type": "stream",
     "text": [
      "Train on 6700 samples, validate on 3300 samples\n",
      "Epoch 1/20\n",
      "6700/6700 [==============================] - 22s 3ms/step - loss: 5.7785 - val_loss: 3.0951\n",
      "Epoch 2/20\n",
      "6700/6700 [==============================] - 19s 3ms/step - loss: 2.3888 - val_loss: 1.9283\n",
      "Epoch 3/20\n",
      "6700/6700 [==============================] - 19s 3ms/step - loss: 1.6617 - val_loss: 1.4721\n",
      "Epoch 4/20\n",
      "6700/6700 [==============================] - 19s 3ms/step - loss: 1.2563 - val_loss: 1.0926\n",
      "Epoch 5/20\n",
      "6700/6700 [==============================] - 19s 3ms/step - loss: 1.0775 - val_loss: 1.0396\n",
      "Epoch 6/20\n",
      "6700/6700 [==============================] - 19s 3ms/step - loss: 0.9772 - val_loss: 0.8807\n",
      "Epoch 7/20\n",
      "6700/6700 [==============================] - 19s 3ms/step - loss: 0.9040 - val_loss: 0.8424\n",
      "Epoch 8/20\n",
      "6700/6700 [==============================] - 19s 3ms/step - loss: 0.8319 - val_loss: 0.8157\n",
      "Epoch 9/20\n",
      "6700/6700 [==============================] - 19s 3ms/step - loss: 0.7997 - val_loss: 0.7518\n",
      "Epoch 10/20\n",
      "6700/6700 [==============================] - 19s 3ms/step - loss: 0.7502 - val_loss: 0.7124\n",
      "Epoch 11/20\n",
      "6700/6700 [==============================] - 19s 3ms/step - loss: 0.7071 - val_loss: 0.6901\n",
      "Epoch 12/20\n",
      "6700/6700 [==============================] - 19s 3ms/step - loss: 0.7680 - val_loss: 0.6826\n",
      "Epoch 13/20\n",
      "6700/6700 [==============================] - 19s 3ms/step - loss: 0.6745 - val_loss: 0.6299\n",
      "Epoch 14/20\n",
      "6700/6700 [==============================] - 19s 3ms/step - loss: 0.6735 - val_loss: 0.6444\n",
      "Epoch 15/20\n",
      "6700/6700 [==============================] - 19s 3ms/step - loss: 0.6326 - val_loss: 0.6658\n",
      "Epoch 16/20\n",
      "6700/6700 [==============================] - 19s 3ms/step - loss: 0.6329 - val_loss: 0.6467\n",
      "Epoch 17/20\n",
      "6700/6700 [==============================] - 19s 3ms/step - loss: 0.6222 - val_loss: 0.6017\n",
      "Epoch 18/20\n",
      "6700/6700 [==============================] - 19s 3ms/step - loss: 0.6146 - val_loss: 0.5895\n",
      "Epoch 19/20\n",
      "6700/6700 [==============================] - 19s 3ms/step - loss: 0.6267 - val_loss: 0.5930\n",
      "Epoch 20/20\n",
      "6700/6700 [==============================] - 19s 3ms/step - loss: 0.6001 - val_loss: 0.5712\n"
     ]
    }
   ],
   "source": [
    "history = m4.fit(trainx,trainy,epochs=epochs,batch_size=bs,validation_data=(testx,testy),shuffle=False)"
   ]
  },
  {
   "cell_type": "code",
   "execution_count": 76,
   "metadata": {
    "_uuid": "ce689a42d575576a6c6dd8930127add063f17d3b"
   },
   "outputs": [
    {
     "data": {
      "image/png": "[encoded data removed]",
      "text/plain": [
       "<Figure size 432x288 with 1 Axes>"
      ]
     },
     "metadata": {
      "needs_background": "light"
     },
     "output_type": "display_data"
    },
    {
     "data": {
      "image/png": "[encoded data removed]",
      "text/plain": [
       "<Figure size 432x288 with 1 Axes>"
      ]
     },
     "metadata": {
      "needs_background": "light"
     },
     "output_type": "display_data"
    }
   ],
   "source": [
    "loss = history.history['loss']\n",
    "val_loss = history.history['val_loss']\n",
    "plot_results(loss,val_loss,epochs)"
   ]
  },
  {
   "cell_type": "markdown",
   "metadata": {
    "_uuid": "0d1bcd38912083a455f790c7d42fb7de413d2c29"
   },
   "source": [
    "The above nework also gave good results on the train and validation data. Also, these results seems to be improving with increasing number of epochs. However, I will pass the epochs once again to test for other architectures."
   ]
  },
  {
   "cell_type": "code",
   "execution_count": 80,
   "metadata": {
    "_uuid": "04da425521ed42308a2294ac3720dc189aa55509",
    "collapsed": true
   },
   "outputs": [],
   "source": [
    "#Two bidirectional LSTMs, One LSTM, Two Dense layers stacked together with 25% Dropout to control overfitting\n",
    "m6 = Sequential()\n",
    "m6.add(Bidirectional(LSTM(100,return_sequences=True,input_shape = (24,14))))\n",
    "m6.add(Bidirectional(LSTM(50,return_sequences=True)))\n",
    "m6.add(LSTM(50,return_sequences=False))\n",
    "m6.add(Dropout(0.25))\n",
    "m6.add(Dense(100))\n",
    "m6.add(Dropout(0.25))\n",
    "m6.add(Dense(1))\n",
    "\n",
    "m6.compile(loss='mae',optimizer='adam')\n",
    "\n",
    "#m6.summary()"
   ]
  },
  {
   "cell_type": "code",
   "execution_count": 81,
   "metadata": {
    "_uuid": "29fbe7041b8597f2673fcc71abb5a2e34d3d7919",
    "scrolled": false
   },
   "outputs": [
    {
     "name": "stdout",
     "output_type": "stream",
     "text": [
      "Train on 6700 samples, validate on 3300 samples\n",
      "Epoch 1/20\n",
      "6700/6700 [==============================] - 38s 6ms/step - loss: 5.3221 - val_loss: 2.0144\n",
      "Epoch 2/20\n",
      "6700/6700 [==============================] - 31s 5ms/step - loss: 1.9077 - val_loss: 1.3021\n",
      "Epoch 3/20\n",
      "6700/6700 [==============================] - 31s 5ms/step - loss: 1.5949 - val_loss: 1.0393\n",
      "Epoch 4/20\n",
      "6700/6700 [==============================] - 31s 5ms/step - loss: 1.4143 - val_loss: 0.9177\n",
      "Epoch 5/20\n",
      "6700/6700 [==============================] - 31s 5ms/step - loss: 1.3908 - val_loss: 1.0088\n",
      "Epoch 6/20\n",
      "6700/6700 [==============================] - 31s 5ms/step - loss: 1.2888 - val_loss: 0.7282\n",
      "Epoch 7/20\n",
      "6700/6700 [==============================] - 31s 5ms/step - loss: 1.2267 - val_loss: 0.8404\n",
      "Epoch 8/20\n",
      "6700/6700 [==============================] - 31s 5ms/step - loss: 1.2210 - val_loss: 0.8581\n",
      "Epoch 9/20\n",
      "6700/6700 [==============================] - 31s 5ms/step - loss: 1.1739 - val_loss: 0.7119\n",
      "Epoch 10/20\n",
      "6700/6700 [==============================] - 31s 5ms/step - loss: 1.2775 - val_loss: 0.7976\n",
      "Epoch 11/20\n",
      "6700/6700 [==============================] - 31s 5ms/step - loss: 1.1625 - val_loss: 0.6966\n",
      "Epoch 12/20\n",
      "6700/6700 [==============================] - 31s 5ms/step - loss: 1.1201 - val_loss: 0.6553\n",
      "Epoch 13/20\n",
      "6700/6700 [==============================] - 31s 5ms/step - loss: 1.1577 - val_loss: 0.7047\n",
      "Epoch 14/20\n",
      "6700/6700 [==============================] - 31s 5ms/step - loss: 1.1477 - val_loss: 0.6201\n",
      "Epoch 15/20\n",
      "6700/6700 [==============================] - 31s 5ms/step - loss: 1.0898 - val_loss: 0.6047\n",
      "Epoch 16/20\n",
      "6700/6700 [==============================] - 32s 5ms/step - loss: 1.0911 - val_loss: 0.5890\n",
      "Epoch 17/20\n",
      "6700/6700 [==============================] - 31s 5ms/step - loss: 1.1073 - val_loss: 0.5699\n",
      "Epoch 18/20\n",
      "6700/6700 [==============================] - 31s 5ms/step - loss: 1.0327 - val_loss: 0.5648\n",
      "Epoch 19/20\n",
      "6700/6700 [==============================] - 31s 5ms/step - loss: 1.0489 - val_loss: 0.5968\n",
      "Epoch 20/20\n",
      "6700/6700 [==============================] - 31s 5ms/step - loss: 1.0448 - val_loss: 0.5361\n"
     ]
    }
   ],
   "source": [
    "history = m6.fit(trainx,trainy,epochs=epochs,batch_size=bs,validation_data=(testx,testy),shuffle=False)"
   ]
  },
  {
   "cell_type": "code",
   "execution_count": 82,
   "metadata": {
    "_uuid": "af3ca3c774e4c27b97e4f17004c3cd77a06b67c9"
   },
   "outputs": [
    {
     "data": {
      "image/png": "[encoded data removed]",
      "text/plain": [
       "<Figure size 432x288 with 1 Axes>"
      ]
     },
     "metadata": {
      "needs_background": "light"
     },
     "output_type": "display_data"
    },
    {
     "data": {
      "image/png": "[encoded data removed]",
      "text/plain": [
       "<Figure size 432x288 with 1 Axes>"
      ]
     },
     "metadata": {
      "needs_background": "light"
     },
     "output_type": "display_data"
    }
   ],
   "source": [
    "loss = history.history['loss']\n",
    "val_loss = history.history['val_loss']\n",
    "plot_results(loss,val_loss,epochs)"
   ]
  },
  {
   "cell_type": "markdown",
   "metadata": {
    "_uuid": "dae20c7e235c6e9c870ecc98ac2cdbac422e2c1e"
   },
   "source": [
    "### Select Promising Models from above experiments:\n",
    "\n",
    "I will pick 3 models from above experiments based on the promise of performance from the empirical results shown in the graphs. These models are:\n",
    "- m3\n",
    "- m4\n",
    "- m6\n",
    "\n",
    "*models summarized in below cells*\n",
    "\n",
    "Let us try to explore these models further by changing the parameters and see if the performance further improves."
   ]
  },
  {
   "cell_type": "code",
   "execution_count": 83,
   "metadata": {
    "_uuid": "a9a4e7336d7bcab25c7cc5cc2bfc50d3fcbabc6f"
   },
   "outputs": [
    {
     "name": "stdout",
     "output_type": "stream",
     "text": [
      "_________________________________________________________________\n",
      "Layer (type)                 Output Shape              Param #   \n",
      "=================================================================\n",
      "lstm_11 (LSTM)               (None, 24, 50)            13000     \n",
      "_________________________________________________________________\n",
      "lstm_12 (LSTM)               (None, 50)                20200     \n",
      "_________________________________________________________________\n",
      "dense_4 (Dense)              (None, 1)                 51        \n",
      "=================================================================\n",
      "Total params: 33,251\n",
      "Trainable params: 33,251\n",
      "Non-trainable params: 0\n",
      "_________________________________________________________________\n"
     ]
    }
   ],
   "source": [
    "m3.summary()"
   ]
  },
  {
   "cell_type": "code",
   "execution_count": 84,
   "metadata": {
    "_uuid": "d000b4c9253dc8513d3e4f371ec9dd2b4fb1b698"
   },
   "outputs": [
    {
     "name": "stdout",
     "output_type": "stream",
     "text": [
      "_________________________________________________________________\n",
      "Layer (type)                 Output Shape              Param #   \n",
      "=================================================================\n",
      "bidirectional_3 (Bidirection (None, 24, 100)           26000     \n",
      "_________________________________________________________________\n",
      "lstm_18 (LSTM)               (None, 50)                30200     \n",
      "_________________________________________________________________\n",
      "dense_7 (Dense)              (None, 1)                 51        \n",
      "=================================================================\n",
      "Total params: 56,251\n",
      "Trainable params: 56,251\n",
      "Non-trainable params: 0\n",
      "_________________________________________________________________\n"
     ]
    }
   ],
   "source": [
    "m4.summary()"
   ]
  },
  {
   "cell_type": "code",
   "execution_count": 85,
   "metadata": {
    "_uuid": "17d0782dd7baa894dfed4476243f8a566246bde5"
   },
   "outputs": [
    {
     "name": "stdout",
     "output_type": "stream",
     "text": [
      "_________________________________________________________________\n",
      "Layer (type)                 Output Shape              Param #   \n",
      "=================================================================\n",
      "bidirectional_4 (Bidirection (None, 24, 200)           92000     \n",
      "_________________________________________________________________\n",
      "bidirectional_5 (Bidirection (None, 24, 100)           100400    \n",
      "_________________________________________________________________\n",
      "lstm_24 (LSTM)               (None, 50)                30200     \n",
      "_________________________________________________________________\n",
      "dropout_5 (Dropout)          (None, 50)                0         \n",
      "_________________________________________________________________\n",
      "dense_10 (Dense)             (None, 100)               5100      \n",
      "_________________________________________________________________\n",
      "dropout_6 (Dropout)          (None, 100)               0         \n",
      "_________________________________________________________________\n",
      "dense_11 (Dense)             (None, 1)                 101       \n",
      "=================================================================\n",
      "Total params: 227,801\n",
      "Trainable params: 227,801\n",
      "Non-trainable params: 0\n",
      "_________________________________________________________________\n"
     ]
    }
   ],
   "source": [
    "m6.summary()"
   ]
  },
  {
   "cell_type": "raw",
   "metadata": {
    "_uuid": "87f4ab572e53918c8bd3c1b5baf0ff76cd7ad719"
   },
   "source": [
    "#Parameters to change\n",
    "#batch_size\n",
    "bs_lst = [128,64,32]\n",
    "epochs_lst = [20,30,50,100]\n",
    "optimizers = ['sgd','adam']\n",
    "sgd = keras.optimizers.SGD(lr = 0.01,momentum=0.9,decay = 0.0001)\n",
    "adam = keras.optimizers.Adam(lr = 0.001,decay=0.001)"
   ]
  },
  {
   "cell_type": "markdown",
   "metadata": {
    "_uuid": "29eea11817e446fe6e890473c2186b9a5e0ef331"
   },
   "source": [
    "**Disclaimer:** The Best way to check for best parameters is probably to do a GridSearch. However, that will require a lot of training time. To save some time in this competition, I will try to run as many models as I can with above parameters and select one best among these with best suited parameters. \n",
    "<br>In future, I can do a gridsearch over above parameters lists (or even more params) and select the best model.\n"
   ]
  },
  {
   "cell_type": "code",
   "execution_count": 113,
   "metadata": {
    "_uuid": "ba08166e755d2db46c5e8d8183bdf49ef233b9b5",
    "collapsed": true
   },
   "outputs": [],
   "source": [
    "#params\n",
    "bs = 32\n",
    "epochs = 20"
   ]
  },
  {
   "cell_type": "code",
   "execution_count": 108,
   "metadata": {
    "_uuid": "bc4a0426f031226702c70363e1ffebf79b32da05",
    "collapsed": true
   },
   "outputs": [],
   "source": [
    "sgd = keras.optimizers.SGD(lr = 0.01,momentum=0.9,decay = 0.0001)\n",
    "adam = keras.optimizers.Adam(lr = 0.001,decay=0.001)"
   ]
  },
  {
   "cell_type": "code",
   "execution_count": 109,
   "metadata": {
    "_uuid": "e62df4d40a8d9a72b77c30bb6e582f671d83250e",
    "scrolled": false
   },
   "outputs": [
    {
     "name": "stdout",
     "output_type": "stream",
     "text": [
      "Train on 6700 samples, validate on 3300 samples\n",
      "Epoch 1/30\n",
      "6700/6700 [==============================] - 30s 5ms/step - loss: 0.4783 - val_loss: 0.4765\n",
      "Epoch 2/30\n",
      "6700/6700 [==============================] - 26s 4ms/step - loss: 0.4664 - val_loss: 0.4718\n",
      "Epoch 3/30\n",
      "6700/6700 [==============================] - 26s 4ms/step - loss: 0.4628 - val_loss: 0.4731\n",
      "Epoch 4/30\n",
      "6700/6700 [==============================] - 26s 4ms/step - loss: 0.4597 - val_loss: 0.4686\n",
      "Epoch 5/30\n",
      "6700/6700 [==============================] - 26s 4ms/step - loss: 0.4572 - val_loss: 0.4676\n",
      "Epoch 6/30\n",
      "6700/6700 [==============================] - 26s 4ms/step - loss: 0.4551 - val_loss: 0.4676\n",
      "Epoch 7/30\n",
      "6700/6700 [==============================] - 26s 4ms/step - loss: 0.4535 - val_loss: 0.4672\n",
      "Epoch 8/30\n",
      "6700/6700 [==============================] - 26s 4ms/step - loss: 0.4525 - val_loss: 0.4660\n",
      "Epoch 9/30\n",
      "6700/6700 [==============================] - 26s 4ms/step - loss: 0.4513 - val_loss: 0.4663\n",
      "Epoch 10/30\n",
      "6700/6700 [==============================] - 26s 4ms/step - loss: 0.4527 - val_loss: 0.4632\n",
      "Epoch 11/30\n",
      "6700/6700 [==============================] - 26s 4ms/step - loss: 0.4491 - val_loss: 0.4639\n",
      "Epoch 12/30\n",
      "6700/6700 [==============================] - 26s 4ms/step - loss: 0.4477 - val_loss: 0.4638\n",
      "Epoch 13/30\n",
      "6700/6700 [==============================] - 26s 4ms/step - loss: 0.4466 - val_loss: 0.4636\n",
      "Epoch 14/30\n",
      "6700/6700 [==============================] - 26s 4ms/step - loss: 0.4453 - val_loss: 0.4640\n",
      "Epoch 15/30\n",
      "6700/6700 [==============================] - 26s 4ms/step - loss: 0.4446 - val_loss: 0.4638\n",
      "Epoch 16/30\n",
      "6700/6700 [==============================] - 26s 4ms/step - loss: 0.4438 - val_loss: 0.4647\n",
      "Epoch 17/30\n",
      "6700/6700 [==============================] - 26s 4ms/step - loss: 0.4427 - val_loss: 0.4642\n",
      "Epoch 18/30\n",
      "6700/6700 [==============================] - 26s 4ms/step - loss: 0.4419 - val_loss: 0.4649\n",
      "Epoch 19/30\n",
      "6700/6700 [==============================] - 26s 4ms/step - loss: 0.4412 - val_loss: 0.4653\n",
      "Epoch 20/30\n",
      "6700/6700 [==============================] - 26s 4ms/step - loss: 0.4404 - val_loss: 0.4649\n",
      "Epoch 21/30\n",
      "6700/6700 [==============================] - 26s 4ms/step - loss: 0.4399 - val_loss: 0.4650\n",
      "Epoch 22/30\n",
      "6700/6700 [==============================] - 29s 4ms/step - loss: 0.4391 - val_loss: 0.4655\n",
      "Epoch 23/30\n",
      "6700/6700 [==============================] - 27s 4ms/step - loss: 0.4386 - val_loss: 0.4654\n",
      "Epoch 24/30\n",
      "6700/6700 [==============================] - 27s 4ms/step - loss: 0.4383 - val_loss: 0.4658\n",
      "Epoch 25/30\n",
      "6700/6700 [==============================] - 26s 4ms/step - loss: 0.4378 - val_loss: 0.4656\n",
      "Epoch 26/30\n",
      "6700/6700 [==============================] - 26s 4ms/step - loss: 0.4370 - val_loss: 0.4651\n",
      "Epoch 27/30\n",
      "6700/6700 [==============================] - 26s 4ms/step - loss: 0.4368 - val_loss: 0.4659\n",
      "Epoch 28/30\n",
      "6700/6700 [==============================] - 26s 4ms/step - loss: 0.4364 - val_loss: 0.4656\n",
      "Epoch 29/30\n",
      "6700/6700 [==============================] - 26s 4ms/step - loss: 0.4359 - val_loss: 0.4665\n",
      "Epoch 30/30\n",
      "6700/6700 [==============================] - 26s 4ms/step - loss: 0.4356 - val_loss: 0.4656\n"
     ]
    }
   ],
   "source": [
    "m3.compile(loss = 'mae',optimizer=adam)\n",
    "history = m3.fit(trainx,trainy,epochs=epochs,batch_size=bs,validation_data=(testx,testy),shuffle=False)"
   ]
  },
  {
   "cell_type": "code",
   "execution_count": 112,
   "metadata": {
    "_uuid": "fcd1b0fe8363bedf18733ebf26bbd1bc404b0b16",
    "scrolled": false
   },
   "outputs": [
    {
     "data": {
      "image/png": "[encoded data removed]",
      "text/plain": [
       "<Figure size 432x288 with 1 Axes>"
      ]
     },
     "metadata": {
      "needs_background": "light"
     },
     "output_type": "display_data"
    },
    {
     "data": {
      "image/png": "[encoded data removed]",
      "text/plain": [
       "<Figure size 432x288 with 1 Axes>"
      ]
     },
     "metadata": {
      "needs_background": "light"
     },
     "output_type": "display_data"
    }
   ],
   "source": [
    "loss = history.history['loss']\n",
    "val_loss = history.history['val_loss']\n",
    "plot_results(loss,val_loss,epochs)"
   ]
  },
  {
   "cell_type": "code",
   "execution_count": 114,
   "metadata": {
    "_uuid": "e62df4d40a8d9a72b77c30bb6e582f671d83250e",
    "scrolled": true
   },
   "outputs": [
    {
     "name": "stdout",
     "output_type": "stream",
     "text": [
      "Train on 6700 samples, validate on 3300 samples\n",
      "Epoch 1/20\n",
      "6700/6700 [==============================] - 43s 6ms/step - loss: 0.5493 - val_loss: 0.5072\n",
      "Epoch 2/20\n",
      "6700/6700 [==============================] - 38s 6ms/step - loss: 0.5110 - val_loss: 0.4929\n",
      "Epoch 3/20\n",
      "6700/6700 [==============================] - 38s 6ms/step - loss: 0.5041 - val_loss: 0.4910\n",
      "Epoch 4/20\n",
      "6700/6700 [==============================] - 38s 6ms/step - loss: 0.4978 - val_loss: 0.4856\n",
      "Epoch 5/20\n",
      "6700/6700 [==============================] - 38s 6ms/step - loss: 0.4970 - val_loss: 0.4874\n",
      "Epoch 6/20\n",
      "6700/6700 [==============================] - 38s 6ms/step - loss: 0.4946 - val_loss: 0.4826\n",
      "Epoch 7/20\n",
      "6700/6700 [==============================] - 38s 6ms/step - loss: 0.4924 - val_loss: 0.4816\n",
      "Epoch 8/20\n",
      "6700/6700 [==============================] - 38s 6ms/step - loss: 0.4915 - val_loss: 0.4841\n",
      "Epoch 9/20\n",
      "6700/6700 [==============================] - 38s 6ms/step - loss: 0.4907 - val_loss: 0.4809\n",
      "Epoch 10/20\n",
      "6700/6700 [==============================] - 38s 6ms/step - loss: 0.4895 - val_loss: 0.4832\n",
      "Epoch 11/20\n",
      "6700/6700 [==============================] - 38s 6ms/step - loss: 0.4889 - val_loss: 0.4828\n",
      "Epoch 12/20\n",
      "6700/6700 [==============================] - 38s 6ms/step - loss: 0.4884 - val_loss: 0.4845\n",
      "Epoch 13/20\n",
      "6700/6700 [==============================] - 37s 6ms/step - loss: 0.4868 - val_loss: 0.4847\n",
      "Epoch 14/20\n",
      "6700/6700 [==============================] - 38s 6ms/step - loss: 0.4847 - val_loss: 0.4819\n",
      "Epoch 15/20\n",
      "6700/6700 [==============================] - 37s 6ms/step - loss: 0.4843 - val_loss: 0.4797\n",
      "Epoch 16/20\n",
      "6700/6700 [==============================] - 38s 6ms/step - loss: 0.4851 - val_loss: 0.4807\n",
      "Epoch 17/20\n",
      "6700/6700 [==============================] - 38s 6ms/step - loss: 0.4840 - val_loss: 0.4799\n",
      "Epoch 18/20\n",
      "6700/6700 [==============================] - 38s 6ms/step - loss: 0.4833 - val_loss: 0.4826\n",
      "Epoch 19/20\n",
      "6700/6700 [==============================] - 37s 6ms/step - loss: 0.4843 - val_loss: 0.4844\n",
      "Epoch 20/20\n",
      "6700/6700 [==============================] - 38s 6ms/step - loss: 0.4838 - val_loss: 0.4856\n"
     ]
    }
   ],
   "source": [
    "m4.compile(loss = 'mae',optimizer=adam)\n",
    "history = m4.fit(trainx,trainy,epochs=epochs,batch_size=bs,validation_data=(testx,testy),shuffle=False)"
   ]
  },
  {
   "cell_type": "code",
   "execution_count": 115,
   "metadata": {
    "_uuid": "fcd1b0fe8363bedf18733ebf26bbd1bc404b0b16"
   },
   "outputs": [
    {
     "data": {
      "image/png": "[encoded data removed]",
      "text/plain": [
       "<Figure size 432x288 with 1 Axes>"
      ]
     },
     "metadata": {
      "needs_background": "light"
     },
     "output_type": "display_data"
    },
    {
     "data": {
      "image/png": "[encoded data removed]",
      "text/plain": [
       "<Figure size 432x288 with 1 Axes>"
      ]
     },
     "metadata": {
      "needs_background": "light"
     },
     "output_type": "display_data"
    }
   ],
   "source": [
    "loss = history.history['loss']\n",
    "val_loss = history.history['val_loss']\n",
    "plot_results(loss,val_loss,epochs)"
   ]
  },
  {
   "cell_type": "code",
   "execution_count": 120,
   "metadata": {
    "_uuid": "e62df4d40a8d9a72b77c30bb6e582f671d83250e",
    "scrolled": true
   },
   "outputs": [
    {
     "name": "stdout",
     "output_type": "stream",
     "text": [
      "Train on 6700 samples, validate on 3300 samples\n",
      "Epoch 1/30\n",
      "6700/6700 [==============================] - 72s 11ms/step - loss: 5.5688 - val_loss: 2.9905\n",
      "Epoch 2/30\n",
      "6700/6700 [==============================] - 63s 9ms/step - loss: 3.0558 - val_loss: 2.4632\n",
      "Epoch 3/30\n",
      "6700/6700 [==============================] - 62s 9ms/step - loss: 2.6217 - val_loss: 2.1995\n",
      "Epoch 4/30\n",
      "6700/6700 [==============================] - 62s 9ms/step - loss: 2.4306 - val_loss: 2.1028\n",
      "Epoch 5/30\n",
      "6700/6700 [==============================] - 62s 9ms/step - loss: 2.2798 - val_loss: 1.8453\n",
      "Epoch 6/30\n",
      "6700/6700 [==============================] - 62s 9ms/step - loss: 2.1681 - val_loss: 1.6607\n",
      "Epoch 7/30\n",
      "6700/6700 [==============================] - 62s 9ms/step - loss: 2.0684 - val_loss: 1.5702\n",
      "Epoch 8/30\n",
      "6700/6700 [==============================] - 62s 9ms/step - loss: 1.9837 - val_loss: 1.7031\n",
      "Epoch 9/30\n",
      "6700/6700 [==============================] - 62s 9ms/step - loss: 1.9471 - val_loss: 1.4583\n",
      "Epoch 10/30\n",
      "6700/6700 [==============================] - 62s 9ms/step - loss: 1.9022 - val_loss: 1.5320\n",
      "Epoch 11/30\n",
      "6700/6700 [==============================] - 62s 9ms/step - loss: 1.8540 - val_loss: 1.3563\n",
      "Epoch 12/30\n",
      "6700/6700 [==============================] - 62s 9ms/step - loss: 1.8237 - val_loss: 1.5085\n",
      "Epoch 13/30\n",
      "6700/6700 [==============================] - 62s 9ms/step - loss: 1.8019 - val_loss: 1.2987\n",
      "Epoch 14/30\n",
      "6700/6700 [==============================] - 62s 9ms/step - loss: 1.7779 - val_loss: 1.3104\n",
      "Epoch 15/30\n",
      "6700/6700 [==============================] - 62s 9ms/step - loss: 1.7465 - val_loss: 1.2719\n",
      "Epoch 16/30\n",
      "6700/6700 [==============================] - 62s 9ms/step - loss: 1.7218 - val_loss: 1.3104\n",
      "Epoch 17/30\n",
      "6700/6700 [==============================] - 62s 9ms/step - loss: 1.7171 - val_loss: 1.2011\n",
      "Epoch 18/30\n",
      "6700/6700 [==============================] - 62s 9ms/step - loss: 1.6584 - val_loss: 1.2196\n",
      "Epoch 19/30\n",
      "6700/6700 [==============================] - 63s 9ms/step - loss: 1.6667 - val_loss: 1.2140\n",
      "Epoch 20/30\n",
      "6700/6700 [==============================] - 62s 9ms/step - loss: 1.6189 - val_loss: 1.1758\n",
      "Epoch 21/30\n",
      "6700/6700 [==============================] - 62s 9ms/step - loss: 1.6269 - val_loss: 1.1360\n",
      "Epoch 22/30\n",
      "6700/6700 [==============================] - 62s 9ms/step - loss: 1.6219 - val_loss: 1.2204\n",
      "Epoch 23/30\n",
      "6700/6700 [==============================] - 62s 9ms/step - loss: 1.5793 - val_loss: 1.1743\n",
      "Epoch 24/30\n",
      "6700/6700 [==============================] - 62s 9ms/step - loss: 1.5707 - val_loss: 1.1491\n",
      "Epoch 25/30\n",
      "6700/6700 [==============================] - 62s 9ms/step - loss: 1.5587 - val_loss: 1.0917\n",
      "Epoch 26/30\n",
      "6700/6700 [==============================] - 62s 9ms/step - loss: 1.5441 - val_loss: 1.0670\n",
      "Epoch 27/30\n",
      "6700/6700 [==============================] - 62s 9ms/step - loss: 1.5073 - val_loss: 1.0888\n",
      "Epoch 28/30\n",
      "6700/6700 [==============================] - 61s 9ms/step - loss: 1.5257 - val_loss: 1.1163\n",
      "Epoch 29/30\n",
      "6700/6700 [==============================] - 62s 9ms/step - loss: 1.5025 - val_loss: 1.0779\n",
      "Epoch 30/30\n",
      "6700/6700 [==============================] - 62s 9ms/step - loss: 1.4995 - val_loss: 1.0312\n"
     ]
    }
   ],
   "source": [
    "m6 = Sequential()\n",
    "m6.add(Bidirectional(LSTM(100,return_sequences=True,input_shape = (24,14))))\n",
    "m6.add(Bidirectional(LSTM(50,return_sequences=True)))\n",
    "m6.add(LSTM(50,return_sequences=False))\n",
    "m6.add(Dropout(0.25))\n",
    "m6.add(Dense(100,kernel_regularizer=regularizers.l2(0.01)))\n",
    "m6.add(Dropout(0.25))\n",
    "m6.add(Dense(1))\n",
    "\n",
    "m6.compile(loss='mae',optimizer=adam)\n",
    "history = m6.fit(trainx,trainy,epochs=30,batch_size=bs,validation_data=(testx,testy),shuffle=False)"
   ]
  },
  {
   "cell_type": "code",
   "execution_count": 122,
   "metadata": {
    "_uuid": "fcd1b0fe8363bedf18733ebf26bbd1bc404b0b16"
   },
   "outputs": [
    {
     "data": {
      "image/png": "[encoded data removed]",
      "text/plain": [
       "<Figure size 432x288 with 1 Axes>"
      ]
     },
     "metadata": {
      "needs_background": "light"
     },
     "output_type": "display_data"
    },
    {
     "data": {
      "image/png": "[encoded data removed]",
      "text/plain": [
       "<Figure size 432x288 with 1 Axes>"
      ]
     },
     "metadata": {
      "needs_background": "light"
     },
     "output_type": "display_data"
    }
   ],
   "source": [
    "loss = history.history['loss']\n",
    "val_loss = history.history['val_loss']\n",
    "plot_results(loss,val_loss,30)"
   ]
  },
  {
   "cell_type": "code",
   "execution_count": null,
   "metadata": {
    "_uuid": "945f13c9ce2b7827f5ea8f04d8cd4ac52e8ce323",
    "collapsed": true
   },
   "outputs": [],
   "source": []
  },
  {
   "cell_type": "code",
   "execution_count": null,
   "metadata": {
    "_uuid": "4867ffa6b3b85420d5a0927b07782857774028e3",
    "collapsed": true
   },
   "outputs": [],
   "source": []
  },
  {
   "cell_type": "markdown",
   "metadata": {
    "_uuid": "a8cc1783c0fe63acf656db95c903b01adb1ffbb0"
   },
   "source": [
    "The above 3 models have improved in there results from previous run. Based on the different experiments on the parameters, I came up with below parameter values to use:<br>\n",
    "``batch_size=32``,``optimizer=adam(lr=0.001,decay=0.001)``, ``epochs`` anywhere between 10-30.\n",
    "\n",
    "We are now ready to use these models on train data and predict the results."
   ]
  },
  {
   "cell_type": "markdown",
   "metadata": {
    "_uuid": "a3d552b1da96c1e7adcc30769947e57d25897bea"
   },
   "source": [
    "## 4. Split the main training data into train and validation sets to run the models."
   ]
  },
  {
   "cell_type": "code",
   "execution_count": 123,
   "metadata": {
    "_uuid": "393e47271979ee57d2983d5c878e9e043527b11d"
   },
   "outputs": [
    {
     "name": "stdout",
     "output_type": "stream",
     "text": [
      "(35203, 336)\n",
      "(17339, 336)\n",
      "(35203,)\n",
      "(17339,)\n"
     ]
    }
   ],
   "source": [
    "##create train_test split for the original train set\n",
    "trainx,testx,trainy,testy = train_test_split(x_train,y_train,test_size=0.33,random_state=10)\n",
    "print(trainx.shape)\n",
    "print(testx.shape)\n",
    "print(trainy.shape)\n",
    "print(testy.shape)"
   ]
  },
  {
   "cell_type": "code",
   "execution_count": 127,
   "metadata": {
    "_uuid": "3c95b99b6ff1492b399b27b49ee427a88088cf97",
    "collapsed": true,
    "scrolled": true
   },
   "outputs": [],
   "source": [
    "## scale the data using ``MinMaxScalar``\n",
    "## I will the scalar already fit on the full training data\n",
    "scaler = MinMaxScaler()\n",
    "scaler.fit(trainx)\n",
    "trainx = scaler.transform(trainx)\n",
    "testx = scaler.transform(testx)"
   ]
  },
  {
   "cell_type": "code",
   "execution_count": 128,
   "metadata": {
    "_uuid": "cbef88901dbe6e5cf5cc669ea7611179208a893d"
   },
   "outputs": [
    {
     "name": "stdout",
     "output_type": "stream",
     "text": [
      "Reshaped data\n",
      "(35203, 24, 14)\n",
      "(17339, 24, 14)\n",
      "(35203,)\n",
      "(17339,)\n"
     ]
    }
   ],
   "source": [
    "#reshape the data for LSTM\n",
    "trainx = trainx.reshape(trainx.shape[0],24,14)\n",
    "testx = testx.reshape(testx.shape[0],24,14)\n",
    "trainy = np.array(trainy)\n",
    "testy=np.array(testy)\n",
    "print('Reshaped data')\n",
    "print(trainx.shape)\n",
    "print(testx.shape)\n",
    "print(trainy.shape)\n",
    "print(testy.shape)"
   ]
  },
  {
   "cell_type": "markdown",
   "metadata": {
    "_uuid": "07b640c7792f95b7d9c28ac70cbe9184df446d65"
   },
   "source": [
    "## 5. Select top 3 model architectures, fit train data and check performance on validation data (created above)\n",
    "    Note that this step does not use the original test data. That data will only be used to make final predictions."
   ]
  },
  {
   "cell_type": "code",
   "execution_count": 130,
   "metadata": {
    "_uuid": "8b4f72fc7af6697d95e4cd07b4be75c566846870",
    "collapsed": true
   },
   "outputs": [],
   "source": [
    "#Stack LSTM with default activation function\n",
    "m3a = Sequential()\n",
    "m3a.add(LSTM(50,return_sequences=True,input_shape = (24,14)))\n",
    "m3a.add(LSTM(50,return_sequences=False))\n",
    "m3a.add(Dense(1))\n",
    "\n",
    "## One Bidirectional LSTM with LSTM and Dense layer\n",
    "m4a = Sequential()\n",
    "m4a.add(Bidirectional(LSTM(50,return_sequences=True),input_shape = (24,14)))\n",
    "m4a.add(LSTM(50,return_sequences=False))\n",
    "m4a.add(Dense(1))\n",
    "\n",
    "#Two bidirectional LSTMs, One LSTM, Two Dense layers stacked together with 25% Dropout to control overfitting\n",
    "m6a = Sequential()\n",
    "m6a.add(Bidirectional(LSTM(100,return_sequences=True),input_shape = (24,14)))\n",
    "m6a.add(Bidirectional(LSTM(50,return_sequences=True)))\n",
    "m6a.add(LSTM(50,return_sequences=False))\n",
    "m6a.add(Dropout(0.25))\n",
    "m6a.add(Dense(100,kernel_regularizer=regularizers.l2(0.01)))\n",
    "m6a.add(Dropout(0.25))\n",
    "m6a.add(Dense(1))"
   ]
  },
  {
   "cell_type": "code",
   "execution_count": 131,
   "metadata": {
    "_uuid": "d135d5b2afce7ec9bb195d520ed64de5ab68e010",
    "collapsed": true
   },
   "outputs": [],
   "source": [
    "#best parameters for training\n",
    "adam = keras.optimizers.Adam(lr = 0.001,decay=0.001)\n",
    "epochs = 50\n",
    "bs=32"
   ]
  },
  {
   "cell_type": "code",
   "execution_count": 132,
   "metadata": {
    "_uuid": "acac0aa3aeddc105a7a97e58b7a1146005d37a6e",
    "collapsed": true
   },
   "outputs": [],
   "source": [
    "#compile the models\n",
    "m3a.compile(loss='mae',optimizer=adam)\n",
    "m4a.compile(loss='mae',optimizer=adam)\n",
    "m6a.compile(loss='mae',optimizer=adam)"
   ]
  },
  {
   "cell_type": "code",
   "execution_count": null,
   "metadata": {
    "collapsed": true
   },
   "outputs": [],
   "source": [
    "m3a.summary()"
   ]
  },
  {
   "cell_type": "code",
   "execution_count": null,
   "metadata": {
    "collapsed": true
   },
   "outputs": [],
   "source": [
    "m4a.summary()"
   ]
  },
  {
   "cell_type": "code",
   "execution_count": null,
   "metadata": {
    "collapsed": true
   },
   "outputs": [],
   "source": [
    "m6a.summary()"
   ]
  },
  {
   "cell_type": "code",
   "execution_count": null,
   "metadata": {
    "_uuid": "a1b3debb2a6f61bd66dd3d592a733e7f00aba7fa",
    "collapsed": true
   },
   "outputs": [],
   "source": [
    "history = m3a.fit(trainx,trainy,epochs=epochs,batch_size=bs,validation_data=(testx,testy),shuffle=False)"
   ]
  },
  {
   "cell_type": "code",
   "execution_count": null,
   "metadata": {
    "_uuid": "21fd7b8a043f31c3ec56a052ec2ea44e2ce511d6",
    "collapsed": true
   },
   "outputs": [],
   "source": [
    "loss = history.history['loss']\n",
    "val_loss = history.history['val_loss']\n",
    "plot_results(loss,val_loss,epochs)"
   ]
  },
  {
   "cell_type": "code",
   "execution_count": null,
   "metadata": {
    "_uuid": "3d4f587b8a7c9bc57c05da83a86f8afd900100ae",
    "collapsed": true
   },
   "outputs": [],
   "source": [
    "\n",
    "history = m4a.fit(trainx,trainy,epochs=epochs,batch_size=bs,validation_data=(testx,testy),shuffle=False)"
   ]
  },
  {
   "cell_type": "code",
   "execution_count": null,
   "metadata": {
    "_uuid": "83af9bedcd4ed9d6db09350f15f2493273bb3fce",
    "collapsed": true
   },
   "outputs": [],
   "source": [
    "loss = history.history['loss']\n",
    "val_loss = history.history['val_loss']\n",
    "plot_results(loss,val_loss,epochs)"
   ]
  },
  {
   "cell_type": "code",
   "execution_count": null,
   "metadata": {
    "collapsed": true
   },
   "outputs": [],
   "source": [
    "epochs=100\n",
    "history = m6a.fit(trainx,trainy,epochs=epochs,batch_size=bs,validation_data=(testx,testy),shuffle=False)"
   ]
  },
  {
   "cell_type": "code",
   "execution_count": null,
   "metadata": {
    "collapsed": true
   },
   "outputs": [],
   "source": [
    "loss = history.history['loss']\n",
    "val_loss = history.history['val_loss']\n",
    "plot_results(loss,val_loss,epochs)"
   ]
  },
  {
   "cell_type": "markdown",
   "metadata": {
    "_uuid": "78530b962ab012f6c77562067e6796bbbc911644"
   },
   "source": [
    "## 6. Select the best model with optimal parameters (to avoid overfitting)\n",
    "    The Decision is based on above results"
   ]
  },
  {
   "cell_type": "code",
   "execution_count": null,
   "metadata": {
    "_uuid": "af5d82e3e86f8b4746ce8a666b61e53e7e518726",
    "collapsed": true
   },
   "outputs": [],
   "source": []
  },
  {
   "cell_type": "markdown",
   "metadata": {
    "_uuid": "f082f4205e186289e2db96e7b1673fbbf03eff30"
   },
   "source": [
    "## 7. Fit Final model on whole training data and make Predictions"
   ]
  },
  {
   "cell_type": "code",
   "execution_count": null,
   "metadata": {
    "_uuid": "f86237a9966cace6001b9bf6eb6eea24a0f5ed4b",
    "collapsed": true,
    "scrolled": true
   },
   "outputs": [],
   "source": [
    "## scale the data using ``MinMaxScalar``\n",
    "scaler = MinMaxScaler()\n",
    "scaler.fit(x_train)\n",
    "x_train_scaled = scaler.transform(x_train)\n",
    "x_test_scaled = scaler.transform(x_test)\n",
    "\n",
    "## reshape the features for LSTM\n",
    "x_train_reshaped = x_train_scaled.reshape(x_train_scaled.shape[0],24,14)\n",
    "x_test_reshaped = x_test_scaled.reshape(x_test_scaled.shape[0],24,14)\n",
    "y_train = np.array(trainy)\n",
    "y_test=np.array(testy)\n",
    "print('Reshaped data')\n",
    "print(x_train_reshaped.shape)\n",
    "print(x_test_reshaped.shape)\n",
    "print(y_train.shape)\n",
    "print(y_test.shape)"
   ]
  },
  {
   "cell_type": "code",
   "execution_count": null,
   "metadata": {
    "collapsed": true
   },
   "outputs": [],
   "source": [
    "x_test_scaled = scaler.transform(x_test)\n",
    "x_test_reshaped=x_test_scaled.reshape(x_test_scaled.shape[0],24,14)\n",
    "print(x_test_reshaped.shape)"
   ]
  },
  {
   "cell_type": "code",
   "execution_count": null,
   "metadata": {
    "collapsed": true
   },
   "outputs": [],
   "source": [
    "epochs = 50\n",
    "bs = 32\n",
    "history = m3a.fit(x_train_reshaped,y_train,epochs=epochs,batch_size=bs,validation_data=None,shuffle=False)"
   ]
  },
  {
   "cell_type": "code",
   "execution_count": null,
   "metadata": {
    "_uuid": "7e8184907639729f2e417411292e33163c901a4f",
    "collapsed": true
   },
   "outputs": [],
   "source": [
    "pred = m3a.predict(x_test_reshaped)"
   ]
  },
  {
   "cell_type": "code",
   "execution_count": null,
   "metadata": {
    "collapsed": true
   },
   "outputs": [],
   "source": [
    "mean_absolute_error(np.ravel(y_test),pred)"
   ]
  },
  {
   "cell_type": "markdown",
   "metadata": {
    "_uuid": "7cc10e781fb921d5c613ff71537e08e10a7631cd"
   },
   "source": [
    "## 8. Create the submission file in the format specified and submit."
   ]
  },
  {
   "cell_type": "code",
   "execution_count": null,
   "metadata": {
    "_uuid": "1aa2bcf08bf895e60284aa5cb5dfc8ccdd54ca94",
    "collapsed": true
   },
   "outputs": [],
   "source": [
    "sample = pd.read_csv('../input/sample_submission.csv')\n",
    "df_submit = pd.DataFrame(data = pred)\n",
    "df_submit.insert(0,'date_time',sample.iloc[:,0])\n",
    "df_submit.columns=['date_time','temperature']\n",
    "df_submit.head()"
   ]
  },
  {
   "cell_type": "code",
   "execution_count": null,
   "metadata": {
    "_uuid": "faa4d7b43c2ebd03f22c95a2c20171f436ebe95c",
    "collapsed": true
   },
   "outputs": [],
   "source": [
    "df_submit.to_csv('temp_pred_submission.csv',index=False,sep=',',header=True)"
   ]
  },
  {
   "cell_type": "code",
   "execution_count": null,
   "metadata": {
    "_uuid": "7eb1e8e704d0569310ccef1c2c49ad59585c16cb",
    "collapsed": true
   },
   "outputs": [],
   "source": []
  }
 ],
 "metadata": {
  "kernelspec": {
   "display_name": "Python 3",
   "language": "python",
   "name": "python3"
  },
  "language_info": {
   "codemirror_mode": {
    "name": "ipython",
    "version": 3
   },
   "file_extension": ".py",
   "mimetype": "text/x-python",
   "name": "python",
   "nbconvert_exporter": "python",
   "pygments_lexer": "ipython3",
   "version": "3.6.2"
  }
 },
 "nbformat": 4,
 "nbformat_minor": 1
}
